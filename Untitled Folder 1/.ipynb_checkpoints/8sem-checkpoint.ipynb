{
 "cells": [
  {
   "cell_type": "markdown",
   "metadata": {},
   "source": [
    "## Упражнение 1"
   ]
  },
  {
   "cell_type": "code",
   "execution_count": 10,
   "metadata": {},
   "outputs": [
    {
     "name": "stdout",
     "output_type": "stream",
     "text": [
      "0.0\n",
      "1.0\n",
      "1.4142135623730951\n",
      "1.7320508075688772\n",
      "2.0\n",
      "2.23606797749979\n",
      "2.449489742783178\n",
      "2.6457513110645907\n",
      "2.8284271247461903\n",
      "3.0\n"
     ]
    }
   ],
   "source": [
    "def print_map(f, _iter):\n",
    "    a = iter(_iter)\n",
    "    while True:\n",
    "        try:\n",
    "            next_element = next(a) \n",
    "            print(f(next_element)) \n",
    "        except StopIteration: \n",
    "            break\n",
    "            \n",
    "a = [i for i in range(10)]\n",
    "import math\n",
    "\n",
    "print_map(math.sqrt, a)"
   ]
  },
  {
   "cell_type": "markdown",
   "metadata": {},
   "source": [
    "# Генераторы\n",
    "## Упражнение 2"
   ]
  },
  {
   "cell_type": "code",
   "execution_count": 137,
   "metadata": {},
   "outputs": [
    {
     "name": "stdout",
     "output_type": "stream",
     "text": [
      "7\n"
     ]
    },
    {
     "ename": "TypeError",
     "evalue": "unsupported operand type(s) for +: 'generator' and 'generator'",
     "output_type": "error",
     "traceback": [
      "\u001b[1;31m---------------------------------------------------------------------------\u001b[0m",
      "\u001b[1;31mTypeError\u001b[0m                                 Traceback (most recent call last)",
      "\u001b[1;32m<ipython-input-137-7409df7d42bb>\u001b[0m in \u001b[0;36m<module>\u001b[1;34m\u001b[0m\n\u001b[0;32m      8\u001b[0m \u001b[0mlst\u001b[0m \u001b[1;33m=\u001b[0m \u001b[1;33m[\u001b[0m\u001b[0mi\u001b[0m \u001b[1;32mfor\u001b[0m \u001b[0mi\u001b[0m \u001b[1;32min\u001b[0m \u001b[0mrange\u001b[0m\u001b[1;33m(\u001b[0m\u001b[0mn\u001b[0m\u001b[1;33m)\u001b[0m\u001b[1;33m]\u001b[0m\u001b[1;33m\u001b[0m\u001b[1;33m\u001b[0m\u001b[0m\n\u001b[0;32m      9\u001b[0m \u001b[1;33m\u001b[0m\u001b[0m\n\u001b[1;32m---> 10\u001b[1;33m \u001b[1;32mfor\u001b[0m \u001b[0mi\u001b[0m \u001b[1;32min\u001b[0m \u001b[0mfibonacci\u001b[0m\u001b[1;33m(\u001b[0m\u001b[0mn\u001b[0m\u001b[1;33m)\u001b[0m\u001b[1;33m:\u001b[0m\u001b[1;33m\u001b[0m\u001b[1;33m\u001b[0m\u001b[0m\n\u001b[0m\u001b[0;32m     11\u001b[0m     \u001b[0mprint\u001b[0m\u001b[1;33m(\u001b[0m\u001b[0mi\u001b[0m\u001b[1;33m)\u001b[0m\u001b[1;33m\u001b[0m\u001b[1;33m\u001b[0m\u001b[0m\n",
      "\u001b[1;32m<ipython-input-137-7409df7d42bb>\u001b[0m in \u001b[0;36mfibonacci\u001b[1;34m(n)\u001b[0m\n\u001b[0;32m      4\u001b[0m     \u001b[1;32mif\u001b[0m \u001b[0mn\u001b[0m \u001b[1;32min\u001b[0m \u001b[1;33m(\u001b[0m\u001b[1;36m1\u001b[0m\u001b[1;33m,\u001b[0m \u001b[1;36m2\u001b[0m\u001b[1;33m)\u001b[0m\u001b[1;33m:\u001b[0m\u001b[1;33m\u001b[0m\u001b[1;33m\u001b[0m\u001b[0m\n\u001b[0;32m      5\u001b[0m         \u001b[1;32myield\u001b[0m \u001b[1;36m1\u001b[0m\u001b[1;33m\u001b[0m\u001b[1;33m\u001b[0m\u001b[0m\n\u001b[1;32m----> 6\u001b[1;33m     \u001b[1;32myield\u001b[0m \u001b[0mfibonacci\u001b[0m\u001b[1;33m(\u001b[0m\u001b[0mn\u001b[0m \u001b[1;33m-\u001b[0m \u001b[1;36m1\u001b[0m\u001b[1;33m)\u001b[0m \u001b[1;33m+\u001b[0m \u001b[0mfibonacci\u001b[0m\u001b[1;33m(\u001b[0m\u001b[0mn\u001b[0m \u001b[1;33m-\u001b[0m \u001b[1;36m2\u001b[0m\u001b[1;33m)\u001b[0m\u001b[1;33m\u001b[0m\u001b[1;33m\u001b[0m\u001b[0m\n\u001b[0m\u001b[0;32m      7\u001b[0m \u001b[0mn\u001b[0m \u001b[1;33m=\u001b[0m \u001b[0mint\u001b[0m\u001b[1;33m(\u001b[0m\u001b[0minput\u001b[0m\u001b[1;33m(\u001b[0m\u001b[1;33m)\u001b[0m\u001b[1;33m)\u001b[0m\u001b[1;33m\u001b[0m\u001b[1;33m\u001b[0m\u001b[0m\n\u001b[0;32m      8\u001b[0m \u001b[0mlst\u001b[0m \u001b[1;33m=\u001b[0m \u001b[1;33m[\u001b[0m\u001b[0mi\u001b[0m \u001b[1;32mfor\u001b[0m \u001b[0mi\u001b[0m \u001b[1;32min\u001b[0m \u001b[0mrange\u001b[0m\u001b[1;33m(\u001b[0m\u001b[0mn\u001b[0m\u001b[1;33m)\u001b[0m\u001b[1;33m]\u001b[0m\u001b[1;33m\u001b[0m\u001b[1;33m\u001b[0m\u001b[0m\n",
      "\u001b[1;31mTypeError\u001b[0m: unsupported operand type(s) for +: 'generator' and 'generator'"
     ]
    }
   ],
   "source": [
    "def fibonacci(n):\n",
    "    if n == 0:\n",
    "        yield 0\n",
    "    if n in (1, 2):\n",
    "        yield 1\n",
    "    yield fibonacci(n - 1) + fibonacci(n - 2)\n",
    "n = int(input())\n",
    "lst = [i for i in range(n)]\n",
    "\n",
    "for i in fibonacci(n):\n",
    "    print(i)\n"
   ]
  },
  {
   "cell_type": "markdown",
   "metadata": {},
   "source": [
    "## Упражнение 3"
   ]
  },
  {
   "cell_type": "code",
   "execution_count": 179,
   "metadata": {},
   "outputs": [
    {
     "name": "stdout",
     "output_type": "stream",
     "text": [
      "[0, 1, 4, 9, 16]\n",
      "[(2, 0), (2, 1), (2, 2), (2, 3), (2, 4), (3, 0), (3, 1), (3, 2), (3, 3), (3, 4), (5, 0), (5, 1), (5, 2), (5, 3), (5, 4), (1, 0), (1, 1), (1, 2), (1, 3), (1, 4), (7, 0), (7, 1), (7, 2), (7, 3), (7, 4)]\n",
      "[(0, 'a'), (1, 'c'), (2, 'g')]\n"
     ]
    }
   ],
   "source": [
    "###\n",
    "###    map\n",
    "###\n",
    "\n",
    "def _map(func, _iter, *rest):\n",
    "    for args in zip(_iter, *rest):\n",
    "        yield func(*args)\n",
    "        \n",
    "xs = range(5)     \n",
    "print(list(_map(lambda x: x**2, xs)))\n",
    "\n",
    "\n",
    "### \n",
    "###    zip_longest\n",
    "###\n",
    "\n",
    "def _zip(_iter, rest):\n",
    "    for i in range(len(_iter)):\n",
    "        for j in range(len(rest)):\n",
    "            yield _iter[i], rest[j]\n",
    "        \n",
    "print(list(_zip([2,3,5,1,7], xs)))\n",
    "\n",
    "\n",
    "###\n",
    "###    enumerate\n",
    "###\n",
    "\n",
    "def _enumerate(s):\n",
    "    for i in range(len(s)):\n",
    "        yield (i, s[i])\n",
    "\n",
    "print(list(_enumerate(['a', 'c', 'g'])))\n",
    "    \n"
   ]
  },
  {
   "cell_type": "markdown",
   "metadata": {},
   "source": [
    "## Упражнение №1"
   ]
  },
  {
   "cell_type": "code",
   "execution_count": 129,
   "metadata": {},
   "outputs": [
    {
     "name": "stdout",
     "output_type": "stream",
     "text": [
      "2 3\n",
      "3 4\n",
      "('2', '3') ('2', '4') ('3', '3') ('3', '4')\n"
     ]
    }
   ],
   "source": [
    "import itertools\n",
    "\n",
    "def get_cartesian_product(a, b):\n",
    "        return list(itertools.product(a, b))\n",
    "\n",
    "a = input().split()\n",
    "b = input().split()\n",
    "print(*get_cartesian_product(a, b))"
   ]
  },
  {
   "cell_type": "markdown",
   "metadata": {},
   "source": [
    "## Упражнение №2"
   ]
  },
  {
   "cell_type": "code",
   "execution_count": 57,
   "metadata": {
    "scrolled": true
   },
   "outputs": [
    {
     "name": "stdout",
     "output_type": "stream",
     "text": [
      "cat\n",
      "2\n",
      "[('a', 'c'), ('a', 't'), ('c', 'a'), ('c', 't'), ('t', 'a'), ('t', 'c')]\n"
     ]
    }
   ],
   "source": [
    "import itertools\n",
    "\n",
    "def get_permutations(s, n):\n",
    "    \n",
    "    return list(itertools.permutations(s, n))\n",
    "\n",
    "s = input()\n",
    "n = int(input())\n",
    "\n",
    "print(sorted(get_permutations(s, n)))"
   ]
  },
  {
   "cell_type": "markdown",
   "metadata": {},
   "source": [
    "## Упражнение №3"
   ]
  },
  {
   "cell_type": "code",
   "execution_count": 185,
   "metadata": {},
   "outputs": [
    {
     "name": "stdout",
     "output_type": "stream",
     "text": [
      "cat\n",
      "2\n",
      "[('c',), ('a',), ('t',)] [('c', 'a'), ('c', 't'), ('a', 't')]\n"
     ]
    }
   ],
   "source": [
    "import itertools\n",
    "\n",
    "def get_combinations(s, n):\n",
    "    for i in range(1, n+1):\n",
    "        yield list(itertools.combinations(s, i))\n",
    "    \n",
    "\n",
    "s = input()\n",
    "n = int(input())\n",
    "\n",
    "print(*list(get_combinations(s, n)))"
   ]
  },
  {
   "cell_type": "markdown",
   "metadata": {},
   "source": [
    "## Упражнение №4"
   ]
  },
  {
   "cell_type": "code",
   "execution_count": 188,
   "metadata": {},
   "outputs": [
    {
     "name": "stdout",
     "output_type": "stream",
     "text": [
      "cat\n",
      "2\n",
      "[('c', 'c'), ('c', 'a'), ('c', 't'), ('a', 'a'), ('a', 't'), ('t', 't')]\n"
     ]
    }
   ],
   "source": [
    "from itertools import combinations_with_replacement as cwr\n",
    "\n",
    "def get_combinations_with_r(s, n):\n",
    "    #for i in range(1, n+1):\n",
    "    yield list(cwr(s, n))\n",
    "\n",
    "s = input()\n",
    "n = int(input())\n",
    "\n",
    "print(*sorted(get_combinations_with_r(s, n)))\n",
    "    "
   ]
  },
  {
   "cell_type": "markdown",
   "metadata": {},
   "source": [
    "## Упражнение 5"
   ]
  },
  {
   "cell_type": "code",
   "execution_count": 189,
   "metadata": {},
   "outputs": [
    {
     "name": "stdout",
     "output_type": "stream",
     "text": [
      "1222311\n",
      "[('1', 1), ('2', 3), ('3', 1), ('1', 2)]\n"
     ]
    }
   ],
   "source": [
    "from itertools import groupby \n",
    "\n",
    "def compress_string(s):\n",
    "    answer = []\n",
    "    prom = [list(g) for k, g in groupby(s)]\n",
    "    for i in prom:\n",
    "        yield (i[0], len(i))\n",
    "    \n",
    "\n",
    "s = input()\n",
    "\n",
    "print(list(compress_string(s)))"
   ]
  },
  {
   "cell_type": "markdown",
   "metadata": {},
   "source": [
    "## Упражнение 6"
   ]
  },
  {
   "cell_type": "code",
   "execution_count": 198,
   "metadata": {},
   "outputs": [
    {
     "name": "stdout",
     "output_type": "stream",
     "text": [
      "[5, 4, 5, 4, 5, 4]\n",
      "[5, 4, 5, 4, 5, 4, 7, 8, 9, 7, 8, 9, 7, 8, 9]\n",
      "[5, 4, 5, 4, 5, 4, 7, 8, 9, 7, 8, 9, 7, 8, 9, 5, 7, 8, 9, 10, 5, 7, 8, 9, 10, 5, 7, 8, 9, 10]\n"
     ]
    }
   ],
   "source": [
    "from itertools import groupby\n",
    "\n",
    "def maximize(lists, m):\n",
    "    answer = []\n",
    "    a = iter(lists)\n",
    "    while True:\n",
    "        try:\n",
    "            next_element = next(a) \n",
    "            for i in lists:\n",
    "                answer +=next_element\n",
    "            print(answer)\n",
    "        except StopIteration: \n",
    "            break\n",
    "    \n",
    "\n",
    "lists = [\n",
    "    [5, 4],\n",
    "    [7, 8, 9],\n",
    "    [5, 7, 8, 9, 10]\n",
    "]\n",
    "                \n",
    "maximize(lists, m = 1000)                  "
   ]
  },
  {
   "cell_type": "code",
   "execution_count": null,
   "metadata": {},
   "outputs": [],
   "source": []
  }
 ],
 "metadata": {
  "kernelspec": {
   "display_name": "Python 3",
   "language": "python",
   "name": "python3"
  },
  "language_info": {
   "codemirror_mode": {
    "name": "ipython",
    "version": 3
   },
   "file_extension": ".py",
   "mimetype": "text/x-python",
   "name": "python",
   "nbconvert_exporter": "python",
   "pygments_lexer": "ipython3",
   "version": "3.7.5"
  }
 },
 "nbformat": 4,
 "nbformat_minor": 4
}
