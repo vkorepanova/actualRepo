{
 "cells": [
  {
   "cell_type": "markdown",
   "metadata": {},
   "source": [
    "## Упражнение 2.1\n",
    "## Треугольник и прямоугольник"
   ]
  },
  {
   "cell_type": "code",
   "execution_count": 22,
   "metadata": {},
   "outputs": [
    {
     "name": "stdout",
     "output_type": "stream",
     "text": [
      "3\n",
      "4\n",
      "6\n",
      "12\n"
     ]
    }
   ],
   "source": [
    "class Shape:\n",
    "    def __init__(self, a,b):\n",
    "        self.a = a\n",
    "        self.b = b\n",
    "    \n",
    "class Triangle(Shape):\n",
    "    def area(self):\n",
    "        print(int(a*b/2))\n",
    "        \n",
    "class Rectangle(Shape):\n",
    "    def area(self):\n",
    "        print(a*b)\n",
    "        \n",
    "\n",
    "if __name__ == \"__main__\":\n",
    "    a = int(input())\n",
    "    b = int(input())\n",
    "    answer1 = Triangle(a, b)\n",
    "    answer1.area()\n",
    "    answer2 = Rectangle(a, b)\n",
    "    answer2.area()\n",
    "    "
   ]
  },
  {
   "cell_type": "markdown",
   "metadata": {},
   "source": [
    "## Упражнение 2.2\n",
    "## Дочки-матери\n"
   ]
  },
  {
   "cell_type": "code",
   "execution_count": 23,
   "metadata": {},
   "outputs": [
    {
     "name": "stdout",
     "output_type": "stream",
     "text": [
      "Daughter\n",
      "Mother\n"
     ]
    }
   ],
   "source": [
    "class Mother:\n",
    "    def __str__(self):\n",
    "        return 'Mother'\n",
    "        \n",
    "class Daughter(Mother):\n",
    "    def __str__(self):\n",
    "        return 'Daughter'\n",
    "        \n",
    "if __name__ == \"__main__\":\n",
    "    answer1 = Daughter()\n",
    "    print(answer1)\n",
    "    answer2 = Mother()\n",
    "    print(answer2)"
   ]
  },
  {
   "cell_type": "markdown",
   "metadata": {},
   "source": [
    "\n",
    "## Упражнение 2.3\n",
    "## Животные"
   ]
  },
  {
   "cell_type": "code",
   "execution_count": 25,
   "metadata": {},
   "outputs": [
    {
     "name": "stdout",
     "output_type": "stream",
     "text": [
      "Masha\n",
      "5\n",
      "Masha 5 I'm Zebra\n"
     ]
    }
   ],
   "source": [
    "class Animal:\n",
    "    def __init__(self, name, age):\n",
    "        self.name = name\n",
    "        self.age = age\n",
    "\n",
    "class Zebra(Animal):\n",
    "    def info(self):\n",
    "        print(name, age, \"I'm Zebra\")\n",
    "        \n",
    "class Dolpin(Animal):\n",
    "    def info(self):\n",
    "        print(name, age, \"I'm Dolphin\")\n",
    "        \n",
    "        \n",
    "if __name__ == \"__main__\":\n",
    "    name = input()\n",
    "    age = int(input())\n",
    "    answer = Zebra(name, age)\n",
    "    answer.info()"
   ]
  },
  {
   "cell_type": "markdown",
   "metadata": {},
   "source": [
    "## Упражнение 3\n",
    "## Драконы"
   ]
  },
  {
   "cell_type": "code",
   "execution_count": null,
   "metadata": {},
   "outputs": [],
   "source": [
    "#В папке"
   ]
  }
 ],
 "metadata": {
  "kernelspec": {
   "display_name": "Python 3",
   "language": "python",
   "name": "python3"
  },
  "language_info": {
   "codemirror_mode": {
    "name": "ipython",
    "version": 3
   },
   "file_extension": ".py",
   "mimetype": "text/x-python",
   "name": "python",
   "nbconvert_exporter": "python",
   "pygments_lexer": "ipython3",
   "version": "3.7.5"
  }
 },
 "nbformat": 4,
 "nbformat_minor": 4
}
