{
 "cells": [
  {
   "cell_type": "code",
   "execution_count": 1,
   "metadata": {},
   "outputs": [
    {
     "name": "stdout",
     "output_type": "stream",
     "text": [
      "Public variable: I'm public!\n",
      "Public variable: I'm public!\n",
      "Private variable: I'm too shy to be public!\n"
     ]
    },
    {
     "ename": "AttributeError",
     "evalue": "'TestClass' object has no attribute '_private_variable'",
     "output_type": "error",
     "traceback": [
      "\u001b[1;31m---------------------------------------------------------------------------\u001b[0m",
      "\u001b[1;31mAttributeError\u001b[0m                            Traceback (most recent call last)",
      "\u001b[1;32m<ipython-input-1-b54941b0f4fd>\u001b[0m in \u001b[0;36m<module>\u001b[1;34m\u001b[0m\n\u001b[0;32m     17\u001b[0m \u001b[1;33m\u001b[0m\u001b[0m\n\u001b[0;32m     18\u001b[0m     \u001b[0mprint\u001b[0m\u001b[1;33m(\u001b[0m\u001b[1;34m\" \"\u001b[0m\u001b[1;33m.\u001b[0m\u001b[0mjoin\u001b[0m\u001b[1;33m(\u001b[0m\u001b[1;33m[\u001b[0m\u001b[1;34m\"Private variable:\"\u001b[0m\u001b[1;33m,\u001b[0m \u001b[0mtest_class\u001b[0m\u001b[1;33m.\u001b[0m\u001b[0mget_private_variable\u001b[0m\u001b[1;33m(\u001b[0m\u001b[1;33m)\u001b[0m\u001b[1;33m]\u001b[0m\u001b[1;33m)\u001b[0m\u001b[1;33m)\u001b[0m\u001b[1;33m\u001b[0m\u001b[1;33m\u001b[0m\u001b[0m\n\u001b[1;32m---> 19\u001b[1;33m     \u001b[0mprint\u001b[0m\u001b[1;33m(\u001b[0m\u001b[1;34m\" \"\u001b[0m\u001b[1;33m.\u001b[0m\u001b[0mjoin\u001b[0m\u001b[1;33m(\u001b[0m\u001b[1;33m[\u001b[0m\u001b[1;34m\"Private variable:\"\u001b[0m\u001b[1;33m,\u001b[0m \u001b[0mtest_class\u001b[0m\u001b[1;33m.\u001b[0m\u001b[0m_private_variable\u001b[0m\u001b[1;33m]\u001b[0m\u001b[1;33m)\u001b[0m\u001b[1;33m)\u001b[0m\u001b[1;33m\u001b[0m\u001b[1;33m\u001b[0m\u001b[0m\n\u001b[0m",
      "\u001b[1;31mAttributeError\u001b[0m: 'TestClass' object has no attribute '_private_variable'"
     ]
    }
   ],
   "source": [
    "class TestClass:\n",
    "\n",
    "    def __init__(self):\n",
    "        self.public_variable = \"I'm public!\"\n",
    "        self.__private_variable = \"I'm too shy to be public!\"\n",
    "\n",
    "    def get_public_variable(self):\n",
    "        return self.public_variable\n",
    "\n",
    "    def get_private_variable(self):\n",
    "        return self.__private_variable\n",
    "\n",
    "if __name__ == \"__main__\":\n",
    "    test_class = TestClass()\n",
    "    print(\" \".join([\"Public variable:\", test_class.get_public_variable()]))\n",
    "    print(\" \".join([\"Public variable:\", test_class.public_variable]))\n",
    "\n",
    "    print(\" \".join([\"Private variable:\", test_class.get_private_variable()]))\n",
    "    print(\" \".join([\"Private variable:\", test_class._private_variable]))"
   ]
  },
  {
   "cell_type": "markdown",
   "metadata": {},
   "source": [
    "## Упражнение 2.1\n",
    "## Треугольник и прямоугольник"
   ]
  },
  {
   "cell_type": "code",
   "execution_count": 22,
   "metadata": {},
   "outputs": [
    {
     "name": "stdout",
     "output_type": "stream",
     "text": [
      "3\n",
      "4\n",
      "6\n",
      "12\n"
     ]
    }
   ],
   "source": [
    "class Shape:\n",
    "    def __init__(self, a,b):\n",
    "        self.a = a\n",
    "        self.b = b\n",
    "    \n",
    "class Triangle(Shape):\n",
    "    def area(self):\n",
    "        print(int(a*b/2))\n",
    "        \n",
    "class Rectangle(Shape):\n",
    "    def area(self):\n",
    "        print(a*b)\n",
    "        \n",
    "\n",
    "if __name__ == \"__main__\":\n",
    "    a = int(input())\n",
    "    b = int(input())\n",
    "    answer1 = Triangle(a, b)\n",
    "    answer1.area()\n",
    "    answer2 = Rectangle(a, b)\n",
    "    answer2.area()\n",
    "    "
   ]
  },
  {
   "cell_type": "markdown",
   "metadata": {},
   "source": [
    "## Упражнение 2.2\n",
    "## Дочки-матери\n"
   ]
  },
  {
   "cell_type": "code",
   "execution_count": 23,
   "metadata": {},
   "outputs": [
    {
     "name": "stdout",
     "output_type": "stream",
     "text": [
      "Daughter\n",
      "Mother\n"
     ]
    }
   ],
   "source": [
    "class Mother:\n",
    "    def __str__(self):\n",
    "        return 'Mother'\n",
    "        \n",
    "class Daughter(Mother):\n",
    "    def __str__(self):\n",
    "        return 'Daughter'\n",
    "        \n",
    "if __name__ == \"__main__\":\n",
    "    answer1 = Daughter()\n",
    "    print(answer1)\n",
    "    answer2 = Mother()\n",
    "    print(answer2)"
   ]
  },
  {
   "cell_type": "markdown",
   "metadata": {},
   "source": [
    "\n",
    "## Упражнение 2.3\n",
    "## Животные"
   ]
  },
  {
   "cell_type": "code",
   "execution_count": 25,
   "metadata": {},
   "outputs": [
    {
     "name": "stdout",
     "output_type": "stream",
     "text": [
      "Masha\n",
      "5\n",
      "Masha 5 I'm Zebra\n"
     ]
    }
   ],
   "source": [
    "class Animal:\n",
    "    def __init__(self, name, age):\n",
    "        self.name = name\n",
    "        self.age = age\n",
    "\n",
    "class Zebra(Animal):\n",
    "    def info(self):\n",
    "        print(name, age, \"I'm Zebra\")\n",
    "        \n",
    "class Dolpin(Animal):\n",
    "    def info(self):\n",
    "        print(name, age, \"I'm Dolphin\")\n",
    "        \n",
    "        \n",
    "if __name__ == \"__main__\":\n",
    "    name = input()\n",
    "    age = int(input())\n",
    "    answer = Zebra(name, age)\n",
    "    answer.info()"
   ]
  },
  {
   "cell_type": "markdown",
   "metadata": {},
   "source": [
    "## Упражнение 3\n",
    "## Драконы"
   ]
  },
  {
   "cell_type": "code",
   "execution_count": 36,
   "metadata": {},
   "outputs": [],
   "source": [
    "\n",
    "from random import randint, choice\n",
    "\n",
    "class Enemy(Attacker):\n",
    "    pass\n",
    "\n",
    "\n",
    "def generate_random_enemy():\n",
    "    RandomEnemyType = choice(enemy_types)\n",
    "    enemy = RandomEnemyType()\n",
    "    return enemy\n",
    "\n",
    "\n",
    "def generate_dragon_list(enemy_number):\n",
    "    enemy_list = [generate_random_enemy() for i in range(enemy_number)]\n",
    "    return enemy_list\n",
    "\n",
    "\n",
    "class Dragon(Enemy):\n",
    "    def set_answer(self, answer):\n",
    "        self.__answer = answer\n",
    "\n",
    "    def check_answer(self, answer):\n",
    "        return answer == self.__answer\n",
    "\n",
    "\n",
    "class GreenDragon(Dragon):\n",
    "    def __init__(self):\n",
    "        self._health = 200\n",
    "        self._attack = 10\n",
    "        self._color = 'зелёный'\n",
    "\n",
    "    def question(self):\n",
    "        x = randint(1,100)\n",
    "        y = randint(1,100)\n",
    "        self.__quest = str(x) + '+' + str(y)\n",
    "        self.set_answer(x + y)\n",
    "        return self.__quest\n",
    "\n",
    "#FIXME здесь также должны быть описаны классы RedDragon и BlackDragon\n",
    "# красный дракон учит вычитанию, а чёрный -- умножению.\n",
    "class RedDragon(Dragon):\n",
    "    def __init__(self):\n",
    "        self._health = 200\n",
    "        self._attack = 10\n",
    "        self._color = 'красный'\n",
    "\n",
    "    def question(self):\n",
    "        x = randint(1,100)\n",
    "        y = randint(1,100)\n",
    "        self.__quest = str(x) + '-' + str(y)\n",
    "        self.set_answer(x - y)\n",
    "        return self.__quest\n",
    "    \n",
    "class BlackDragon(Dragon):\n",
    "    def __init__(self):\n",
    "        self._health = 200\n",
    "        self._attack = 10\n",
    "        self._color = 'чёрный'\n",
    "\n",
    "    def question(self):\n",
    "        x = randint(1,100)\n",
    "        y = randint(1,100)\n",
    "        self.__quest = str(x) + '*' + str(y)\n",
    "        self.set_answer(x * y)\n",
    "        return self.__quest\n",
    "\n",
    "\n",
    "enemy_types = [GreenDragon, RedDragon, BlackDragon]"
   ]
  },
  {
   "cell_type": "code",
   "execution_count": 37,
   "metadata": {},
   "outputs": [],
   "source": [
    "class Attacker:\n",
    "    _health = None\n",
    "    _attack = None\n",
    "\n",
    "    def attack(self, target):\n",
    "        target._health -= self._attack\n",
    "\n",
    "    def is_alive(self):\n",
    "        return self._health > 0"
   ]
  },
  {
   "cell_type": "code",
   "execution_count": 50,
   "metadata": {},
   "outputs": [],
   "source": [
    "\n",
    "\n",
    "#FIXME:\n",
    "\"\"\"В этом файле должен быть описан класс героя, унаследованный от Attacker\n",
    "Герой должен иметь 100 поинтов здоровья, атаку 50, опыт 0, имя, задаваемое в конструкторе\n",
    "Метод attack должен получать атрибут target и уменьшать его здоровье на величину атаки.\n",
    "\n",
    "\"\"\"\n",
    "class Hero(Attacker):\n",
    "    def __init__(self):\n",
    "        self._health = 100\n",
    "        self._attack = 50\n",
    "        self._experience = 0\n",
    "        self._hero = hero\n",
    "    \n",
    "    def attack(self, target):\n",
    "        target._health -= self._attack\n",
    "\n",
    "        "
   ]
  },
  {
   "cell_type": "code",
   "execution_count": null,
   "metadata": {},
   "outputs": [],
   "source": [
    "\n",
    "def annoying_input_int(message =''):\n",
    "    answer = None\n",
    "    while answer == None:\n",
    "        try:\n",
    "            answer = int(input(message))\n",
    "        except ValueError:\n",
    "            print('Вы ввели недопустимые символы')\n",
    "    return answer\n",
    "\n",
    "\n",
    "def game_tournament(hero, dragon_list):\n",
    "    for dragon in dragon_list:\n",
    "        print('Вышел', dragon._color, 'дракон!')\n",
    "        while dragon.is_alive() and hero.is_alive():\n",
    "            print('Вопрос:', dragon.question())\n",
    "            answer = annoying_input_int('Ответ:')\n",
    "\n",
    "            if dragon.check_answer(answer):\n",
    "                hero.attack(dragon)\n",
    "                print('Верно! \\n** дракон кричит от боли **')\n",
    "            else:\n",
    "                dragon.attack(hero)\n",
    "                print('Ошибка! \\n** вам нанесён удар... **')\n",
    "        if dragon.is_alive():\n",
    "            break\n",
    "        print('Дракон', dragon._color, 'повержен!\\n')\n",
    "\n",
    "    if hero.is_alive():\n",
    "        print('Поздравляем! Вы победили!')\n",
    "        print('Ваш накопленный опыт:', hero._experience)\n",
    "    else:\n",
    "        print('К сожалению, Вы проиграли...')\n",
    "\n",
    "def start_game():\n",
    "\n",
    "    try:\n",
    "        print('Добро пожаловать в арифметико-ролевую игру с драконами!')\n",
    "        print('Представьтесь, пожалуйста: ', end = '')\n",
    "        hero = Hero(input())\n",
    "\n",
    "        dragon_number = 3\n",
    "        dragon_list = generate_dragon_list(dragon_number)\n",
    "        assert(len(dragon_list) == 3)\n",
    "        print('У Вас на пути', dragon_number, 'драконов!')\n",
    "        game_tournament(hero, dragon_list)\n",
    "\n",
    "    except EOFError:\n",
    "        print('Поток ввода закончился. Извините, принимать ответы более невозможно.')\n"
   ]
  },
  {
   "cell_type": "code",
   "execution_count": null,
   "metadata": {},
   "outputs": [],
   "source": [
    "print(__name__)\n",
    "\n",
    "if __name__ == '__main__':\n",
    "    start_game()"
   ]
  },
  {
   "cell_type": "code",
   "execution_count": 43,
   "metadata": {},
   "outputs": [],
   "source": [
    "class Hero(Attacker):\n",
    "    def __init__(self):\n",
    "        self._health = 100\n",
    "        self._attack = 50\n",
    "        self._experience = 0\n",
    "        self.name = \"Имя\"\n",
    "    \n",
    "    def attack(self, target):\n",
    "        target._health -= self._attack"
   ]
  },
  {
   "cell_type": "code",
   "execution_count": 44,
   "metadata": {},
   "outputs": [],
   "source": [
    "class Attacker:\n",
    "    _health = None\n",
    "    _attack = None\n",
    "\n",
    "    def attack(self, target):\n",
    "        target._health -= self._attack\n",
    "\n",
    "    def is_alive(self):\n",
    "        return self._health > 0"
   ]
  },
  {
   "cell_type": "code",
   "execution_count": 45,
   "metadata": {},
   "outputs": [],
   "source": [
    "\n",
    "from random import randint, choice\n",
    "\n",
    "class Enemy(Attacker):\n",
    "    pass\n",
    "\n",
    "\n",
    "def generate_random_enemy():\n",
    "    RandomEnemyType = choice(enemy_types)\n",
    "    enemy = RandomEnemyType()\n",
    "    return enemy\n",
    "\n",
    "\n",
    "def generate_dragon_list(enemy_number):\n",
    "    enemy_list = [generate_random_enemy() for i in range(enemy_number)]\n",
    "    return enemy_list\n",
    "\n",
    "\n",
    "class Dragon(Enemy):\n",
    "    def set_answer(self, answer):\n",
    "        self.__answer = answer\n",
    "\n",
    "    def check_answer(self, answer):\n",
    "        return answer == self.__answer\n",
    "\n",
    "\n",
    "class GreenDragon(Dragon):\n",
    "    def __init__(self):\n",
    "        self._health = 200\n",
    "        self._attack = 10\n",
    "        self._color = 'зелёный'\n",
    "\n",
    "    def question(self):\n",
    "        x = randint(1,100)\n",
    "        y = randint(1,100)\n",
    "        self.__quest = str(x) + '+' + str(y)\n",
    "        self.set_answer(x + y)\n",
    "        return self.__quest\n",
    "\n",
    "#FIXME здесь также должны быть описаны классы RedDragon и BlackDragon\n",
    "# красный дракон учит вычитанию, а чёрный -- умножению.\n",
    "class RedDragon(Dragon):\n",
    "    def __init__(self):\n",
    "        self._health = 200\n",
    "        self._attack = 10\n",
    "        self._color = 'красный'\n",
    "\n",
    "    def question(self):\n",
    "        x = randint(1,100)\n",
    "        y = randint(1,100)\n",
    "        self.__quest = str(x) + '-' + str(y)\n",
    "        self.set_answer(x - y)\n",
    "        return self.__quest\n",
    "    \n",
    "class BlackDragon(Dragon):\n",
    "    def __init__(self):\n",
    "        self._health = 200\n",
    "        self._attack = 10\n",
    "        self._color = 'чёрный'\n",
    "\n",
    "    def question(self):\n",
    "        x = randint(1,100)\n",
    "        y = randint(1,100)\n",
    "        self.__quest = str(x) + '*' + str(y)\n",
    "        self.set_answer(x * y)\n",
    "        return self.__quest\n",
    "\n",
    "\n",
    "enemy_types = [GreenDragon, RedDragon, BlackDragon]"
   ]
  },
  {
   "cell_type": "code",
   "execution_count": null,
   "metadata": {},
   "outputs": [],
   "source": []
  }
 ],
 "metadata": {
  "kernelspec": {
   "display_name": "Python 3",
   "language": "python",
   "name": "python3"
  },
  "language_info": {
   "codemirror_mode": {
    "name": "ipython",
    "version": 3
   },
   "file_extension": ".py",
   "mimetype": "text/x-python",
   "name": "python",
   "nbconvert_exporter": "python",
   "pygments_lexer": "ipython3",
   "version": "3.7.5"
  }
 },
 "nbformat": 4,
 "nbformat_minor": 4
}
