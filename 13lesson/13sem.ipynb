{
 "cells": [
  {
   "cell_type": "markdown",
   "metadata": {},
   "source": [
    "## Упражнение 1\n",
    "\n",
    "Запустите представленный выше код и убедитесь, что все объекты были десериализованы правильно. Попробуйте сериализовать другие объекты:\n",
    "\n",
    "I/O объекты (например, открытый файл - результат open());\n",
    "\n",
    "итераторы;\n",
    "\n",
    "встроенные функции (например, print или abs);\n",
    "\n",
    "функции и классы (сами классы, а не их объекты!) из подключенных библиотек (например, deque из collections);\n",
    "\n",
    "самописные функции и классы.\n",
    "\n",
    "* Что из этого можно сериализовать? \n",
    "* Можно ли с этими объектами после их десериализации взаимодействовать так, как это бы делалось до сериализации. \n",
    "\n",
    "Помните, что в скрипте с десериализацией не надо ничего импортировать, кроме pickle."
   ]
  },
  {
   "cell_type": "code",
   "execution_count": 1,
   "metadata": {},
   "outputs": [
    {
     "name": "stdout",
     "output_type": "stream",
     "text": [
      "b'\\x80\\x03}q\\x00(X\\x01\\x00\\x00\\x00aq\\x01]q\\x02(K\\x01G@\\x00\\x00\\x00\\x00\\x00\\x00\\x00K\\x03cbuiltins\\ncomplex\\nq\\x03G@\\x10\\x00\\x00\\x00\\x00\\x00\\x00G@\\x18\\x00\\x00\\x00\\x00\\x00\\x00\\x86q\\x04Rq\\x05G\\x7f\\xf8\\x00\\x00\\x00\\x00\\x00\\x00eX\\x01\\x00\\x00\\x00bq\\x06X\\x10\\x00\\x00\\x00character stringq\\x07C\\x0bbyte stringq\\x08\\x86q\\tX\\x01\\x00\\x00\\x00cq\\ncbuiltins\\nset\\nq\\x0b]q\\x0c(\\x89\\x88Ne\\x85q\\rRq\\x0eu.'\n"
     ]
    }
   ],
   "source": [
    "import pickle\n",
    "\n",
    "# Коллекция сериализуемых объектов\n",
    "data = {\n",
    "    'a': [1, 2.0, 3, 4+6j, float(\"nan\")],\n",
    "    'b': (\"character string\", b\"byte string\"),\n",
    "    'c': {None, True, False}\n",
    "}\n",
    "\n",
    "# Сериализация словаря data с использованием\n",
    "# версии протокола по умолчанию.\n",
    "print(pickle.dumps(data))\n",
    "\n",
    "with open('data.pickle', 'wb') as f:\n",
    "    # Сериализация словаря data с использованием\n",
    "    # последней доступной версии протокола.\n",
    "    pickle.dump(data, f, pickle.HIGHEST_PROTOCOL)"
   ]
  },
  {
   "cell_type": "code",
   "execution_count": 2,
   "metadata": {},
   "outputs": [
    {
     "name": "stdout",
     "output_type": "stream",
     "text": [
      "{'a': [1, 2.0, 3, (4+6j), nan], 'b': ('character string', b'byte string'), 'c': {False, True, None}}\n"
     ]
    }
   ],
   "source": [
    "import pickle\n",
    "\n",
    "with open('data.pickle', 'rb') as f:\n",
    "    # Версия протокола определяется автоматически,\n",
    "    # нет необходимости явно указывать его.\n",
    "    data = pickle.load(f)\n",
    "print(data)"
   ]
  },
  {
   "cell_type": "code",
   "execution_count": 6,
   "metadata": {},
   "outputs": [
    {
     "name": "stdout",
     "output_type": "stream",
     "text": [
      "<class 'list_iterator'>\n",
      "b'\\x80\\x03cbuiltins\\niter\\nq\\x00]q\\x01(X\\x01\\x00\\x00\\x00Wq\\x02X\\x01\\x00\\x00\\x00hq\\x03X\\x01\\x00\\x00\\x00yq\\x04X\\x01\\x00\\x00\\x00 q\\x05X\\x01\\x00\\x00\\x00sq\\x06h\\x03X\\x01\\x00\\x00\\x00oq\\x07X\\x01\\x00\\x00\\x00uq\\x08X\\x01\\x00\\x00\\x00lq\\tX\\x01\\x00\\x00\\x00dq\\nh\\x05X\\x01\\x00\\x00\\x00wq\\x0bX\\x01\\x00\\x00\\x00eq\\x0ch\\x05h\\nh\\x07h\\x05X\\x01\\x00\\x00\\x00tq\\rh\\x03X\\x01\\x00\\x00\\x00iq\\x0eh\\x06h\\x05h\\x06h\\x03h\\x0eh\\rX\\x01\\x00\\x00\\x00?q\\x0fh\\x0fh\\x0fh\\x05X\\x01\\x00\\x00\\x00Kq\\x10h\\x0eh\\th\\th\\x05X\\x01\\x00\\x00\\x00mq\\x11h\\x0cX\\x01\\x00\\x00\\x00,q\\x12h\\x05X\\x01\\x00\\x00\\x00pq\\x13h\\th\\x0cX\\x01\\x00\\x00\\x00aq\\x14h\\x06h\\x0ce\\x85q\\x15Rq\\x16K\\x00b.'\n",
      "<class 'list_iterator'>\n",
      "Why should we do this shit??? Kill me, please"
     ]
    }
   ],
   "source": [
    "## Итератор\n",
    "\n",
    "it = iter(list(\"Why should we do this shit??? Kill me, please\")) # Создаём итератор\n",
    "print(type(it)) # Смотрим тип\n",
    "\n",
    "it_bytes = pickle.dumps(it) # Сериализируем итератор \n",
    "print(it_bytes) \n",
    "\n",
    "it2 = pickle.loads(it_bytes) # Дисериализуем обратно\n",
    "print(type(it2)) # Сравниваем тип\n",
    "\n",
    "for i in it2: # Проверяем, что работает так же, как исходный объект\n",
    "    print(i, end = \"\")"
   ]
  },
  {
   "cell_type": "code",
   "execution_count": 9,
   "metadata": {},
   "outputs": [
    {
     "name": "stdout",
     "output_type": "stream",
     "text": [
      "Hello, you will be destroyed!\n"
     ]
    }
   ],
   "source": [
    "## самописные функции и классы\n",
    "\n",
    "class Death:\n",
    "    def KafedraMatana(self):\n",
    "        print(\"Hello, you will be destroyed!\")\n",
    "\n",
    "death_bytes = pickle.dumps(Death) # Дампим класс (Не объект класса)\n",
    "\n",
    "ReDeath = pickle.loads(death_bytes) # Загружаем как новый класс\n",
    "my_answer = ReDeath() # Создаём объект из десир. класса\n",
    "my_answer.KafedraMatana() # Проверяем, работает ли метод"
   ]
  },
  {
   "cell_type": "code",
   "execution_count": 22,
   "metadata": {},
   "outputs": [
    {
     "name": "stdout",
     "output_type": "stream",
     "text": [
      "<class 'function'> \n",
      "\n",
      "Мяу, Ника, I'm Кошка \n",
      "\n"
     ]
    }
   ],
   "source": [
    "## функции\n",
    "\n",
    "def cat(Name):\n",
    "    return (f\"Мяу, {Name}, I'm Кошка\")\n",
    "\n",
    "cat_bytes = pickle.dumps(cat)\n",
    "\n",
    "ReCat = pickle.loads(cat_bytes)\n",
    "answer = ReCat('Ника')\n",
    "\n",
    "print(type(ReCat), '\\n')\n",
    "\n",
    "print(answer, '\\n')\n"
   ]
  },
  {
   "cell_type": "markdown",
   "metadata": {},
   "source": [
    "## Упражнение 2\n",
    "\n",
    "Попробуйте написать программу с функций резервного копирования ее состояния. Пусть в вашей программе строится двоичное дерево поиска. Ваша программа принимает от пользователя команды:\n",
    "\n",
    "* add X - добавить элемент в дерево;\n",
    "* find X - найти элемент в дереве;\n",
    "* delete X - удалить элемент из дерева;\n",
    "* print - распечатать все элементы дерева в отсортированном порядке;\n",
    "* clear - очистить дерево;\n",
    "* dump - создать резервную копию дерева;\n",
    "* exit - завершить работу.\n",
    "\n",
    "Для файла с резервной копией дерева выберите одно конкретное название. Ваша программа при запуске должна пытаться восстановить состояние дерева из резервной копии, если она есть. Если это не возможно, то вы начинаете работу с пустым деревом. Напишите такую программу и убедитесь, что все работает корректно в разных случаях:\n",
    "\n",
    "резервная копия отсутствует;\n",
    "\n",
    "резервная копия присутствует;\n",
    "\n",
    "файл резервной копии поврежден или некорректен."
   ]
  },
  {
   "cell_type": "code",
   "execution_count": 125,
   "metadata": {},
   "outputs": [
    {
     "name": "stdout",
     "output_type": "stream",
     "text": [
      "6\n",
      "\n",
      "12\n",
      "\n",
      "2\n",
      "\n",
      "6\n",
      "\n",
      "12\n",
      "13\n",
      "\n",
      "\n",
      "2\n",
      "\n",
      "6\n",
      "\n",
      "12\n",
      "13\n",
      "15\n",
      "\n",
      "\n",
      "\n",
      "[6, 12] [2, 6, 12, 13]\n"
     ]
    }
   ],
   "source": [
    "class Node:\n",
    "\n",
    "    def __init__(self, data):\n",
    "\n",
    "        self.left = None\n",
    "        self.right = None\n",
    "        self.data = data\n",
    "        \n",
    "\n",
    "    def add(self, data):\n",
    "        if self.data:\n",
    "            if data < self.data:\n",
    "                if self.left is None:\n",
    "                    self.left = Node(data)\n",
    "                else:\n",
    "                    self.left.add(data)\n",
    "            elif data > self.data:\n",
    "                if self.right is None:\n",
    "                    self.right = Node(data)\n",
    "                else:\n",
    "                    self.right.add(data)\n",
    "        else:\n",
    "            self.data = data\n",
    "        \n",
    "        \n",
    "\n",
    "    def PrintTree(self):\n",
    "        if self.left:\n",
    "            self.left.PrintTree()\n",
    "        tree.append(self.data)\n",
    "        print(self.data)\n",
    "        if self.right:\n",
    "            self.right.PrintTree()\n",
    "        print()\n",
    "    \n",
    "    def dump(self):\n",
    "        global copy_of_tree, tree\n",
    "        tree_bytes = pickle.dumps(self.PrintTree)\n",
    "        ReNode = pickle.loads(tree_bytes)\n",
    "        ReNode()\n",
    "        copy_of_tree.append(tree.copy())\n",
    "        tree.clear()\n",
    "\n",
    "copy_of_tree = []\n",
    "tree = []\n",
    "\n",
    "root = Node(12)\n",
    "root.add(6)\n",
    "root.dump()\n",
    "\n",
    "root.add(2)\n",
    "root.add(13)\n",
    "\n",
    "root.dump()\n",
    "\n",
    "root.add(15)\n",
    "root.PrintTree()\n",
    "\n",
    "print(*copy_of_tree)"
   ]
  },
  {
   "cell_type": "markdown",
   "metadata": {},
   "source": [
    "## Упражнение 3\n",
    "\n",
    "Вспомните упражнение №3 из девятой лабы. Вашей задачей является добавить поддержку сериализации и корректной десериализации класса TextLoader и его итератора. Однако учтите, что с момента создания объекта класса содержимое директории могло поменятся, и список файлов, хранимый в объекте, может быть не актуальным. Тем самым при десериализации необходимо заного выполнять чтение списка файлов в директории. Добавьте в класс методы __getstate__ и __setstate__ для корректной сериализации/десериализации его объектов."
   ]
  },
  {
   "cell_type": "code",
   "execution_count": 6,
   "metadata": {},
   "outputs": [
    {
     "name": "stdout",
     "output_type": "stream",
     "text": [
      "File count: 100\n"
     ]
    },
    {
     "ename": "TypeError",
     "evalue": "__setstate__() takes 1 positional argument but 2 were given",
     "output_type": "error",
     "traceback": [
      "\u001b[1;31m---------------------------------------------------------------------------\u001b[0m",
      "\u001b[1;31mTypeError\u001b[0m                                 Traceback (most recent call last)",
      "\u001b[1;32m<ipython-input-6-b958289e4ad9>\u001b[0m in \u001b[0;36m<module>\u001b[1;34m\u001b[0m\n\u001b[0;32m     66\u001b[0m \u001b[1;31m#     print(ReFile)\u001b[0m\u001b[1;33m\u001b[0m\u001b[1;33m\u001b[0m\u001b[1;33m\u001b[0m\u001b[0m\n\u001b[0;32m     67\u001b[0m \u001b[0mfile_bytes\u001b[0m \u001b[1;33m=\u001b[0m \u001b[0mpickle\u001b[0m\u001b[1;33m.\u001b[0m\u001b[0mdumps\u001b[0m\u001b[1;33m(\u001b[0m\u001b[0mf\u001b[0m\u001b[1;33m)\u001b[0m\u001b[1;33m\u001b[0m\u001b[1;33m\u001b[0m\u001b[0m\n\u001b[1;32m---> 68\u001b[1;33m \u001b[0mReFile\u001b[0m \u001b[1;33m=\u001b[0m \u001b[0mpickle\u001b[0m\u001b[1;33m.\u001b[0m\u001b[0mloads\u001b[0m\u001b[1;33m(\u001b[0m\u001b[0mfile_bytes\u001b[0m\u001b[1;33m)\u001b[0m\u001b[1;33m\u001b[0m\u001b[1;33m\u001b[0m\u001b[0m\n\u001b[0m\u001b[0;32m     69\u001b[0m \u001b[0mprint\u001b[0m\u001b[1;33m(\u001b[0m\u001b[0mReFile\u001b[0m\u001b[1;33m)\u001b[0m\u001b[1;33m\u001b[0m\u001b[1;33m\u001b[0m\u001b[0m\n",
      "\u001b[1;31mTypeError\u001b[0m: __setstate__() takes 1 positional argument but 2 were given"
     ]
    }
   ],
   "source": [
    "import os\n",
    "import re\n",
    "import pickle\n",
    "\n",
    "class TextLoader:\n",
    "    def __init__(self, path):\n",
    "        self.path = path\n",
    "        self.files = list(map(lambda x: os.path.join(self.path, x), os.listdir(self.path)))\n",
    "        self.flen = len(self.files)\n",
    "        self.state = self.files\n",
    "\n",
    "    def __len__(self):\n",
    "        self.files = list(map(lambda x: os.path.join(self.path, x), os.listdir(self.path)))\n",
    "        self.flen = len(self.files)\n",
    "        return self.flen\n",
    "\n",
    "    def __getitem__(self, i):\n",
    "        i = os.path.join(self.path, i)\n",
    "        if os.path.isfile(i):\n",
    "            with open(i, \"r\", encoding = \"utf-8\") as file:\n",
    "                text = re.sub(\"[^\\w\\s]\", \" \", file.read().lower())\n",
    "                return text\n",
    "        else:\n",
    "            return None\n",
    "\n",
    "    def __iter__(self):\n",
    "        self.cur = 0\n",
    "        return self\n",
    "\n",
    "    def __next__(self):\n",
    "        if self.cur >= self.flen:\n",
    "            raise StopIteration()\n",
    "        while not os.path.isfile(self.files[self.cur]): # Remove folders\n",
    "            self.cur += 1\n",
    "            if self.cur >= self.flen:\n",
    "                raise StopIteration() \n",
    "\n",
    "        with open(self.files[self.cur], \"r\", encoding = \"utf-8\") as file:\n",
    "            text = re.sub(\"[^\\w\\s\\-]\", \"\", file.read().lower())\n",
    "            self.cur += 1\n",
    "            return text\n",
    "        \n",
    "    def __getstate__(self):\n",
    "        # Копируем состояние объекта из self.__dict__, который содержит все атрибуты. \n",
    "        # Всегда используйте dict.copy() во избежании модификации состояния самого объекта.\n",
    "        state = self.__dict__.copy()\n",
    "        #del state['file'] # Удаляем несериализуемые атрибуты.\n",
    "        return state\n",
    "\n",
    "    def __setstate__(self):\n",
    "        self.__dict__.update(state) # Восстанавливаем атрибуты объекта.\n",
    "        # Восстанавливаем состояние открытого ранее файла. Для этого нам надо\n",
    "        # заного открыть его и прочитать необходимое количество строк.\n",
    "        file = open(self.filename)\n",
    "        for _ in range(self.lineno):\n",
    "            file.readline()\n",
    "        self.file = file  # Создаем атрибут для file.\n",
    "                \n",
    "f = TextLoader(\"./sample\")\n",
    "print(\"File count:\", len(f)) \n",
    "\n",
    "# for i, file in enumerate(f):\n",
    "#     print(\"FILE %d:\" % i)\n",
    "#     file_bytes = pickle.dumps(file)\n",
    "#     ReFile = pickle.loads(file_bytes)\n",
    "#     print(ReFile)\n",
    "file_bytes = pickle.dumps(f)\n",
    "ReFile = pickle.loads(file_bytes)\n",
    "print(ReFile)"
   ]
  },
  {
   "cell_type": "code",
   "execution_count": null,
   "metadata": {},
   "outputs": [],
   "source": []
  }
 ],
 "metadata": {
  "kernelspec": {
   "display_name": "Python 3",
   "language": "python",
   "name": "python3"
  },
  "language_info": {
   "codemirror_mode": {
    "name": "ipython",
    "version": 3
   },
   "file_extension": ".py",
   "mimetype": "text/x-python",
   "name": "python",
   "nbconvert_exporter": "python",
   "pygments_lexer": "ipython3",
   "version": "3.7.5"
  }
 },
 "nbformat": 4,
 "nbformat_minor": 4
}
