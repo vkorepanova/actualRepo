{
 "cells": [
  {
   "cell_type": "code",
   "execution_count": 1,
   "metadata": {},
   "outputs": [],
   "source": [
    "class Node:\n",
    "    def __init__(self, value, nxt=None):\n",
    "        self.value = value\n",
    "        self.nxt = nxt\n",
    "\n",
    "    def get_value(self):\n",
    "        return self.value\n",
    "\n",
    "    def get_next(self):\n",
    "        return self.nxt\n",
    "\n",
    "class LinkedLiset:\n",
    "    def __init__(self):\n",
    "        self.start = None\n",
    "        self.length = 0\n",
    "        self.last = None\n",
    "\n",
    "    def add(self, value):\n",
    "        elem = Node(value)\n",
    "        if self.start is None:\n",
    "            self.start = elem\n",
    "            self.last = elem\n",
    "        else:\n",
    "            self.last.nxt = elem\n",
    "            self.last = elem\n",
    "        self.length += 1\n",
    "\n",
    "    def __len__(self):\n",
    "        return self.length\n",
    "\n",
    "    def __getitem__(self, idx):\n",
    "        if idx >= self.length:\n",
    "            raise IndexError(\"Index out of range\")\n",
    "        current = self.start\n",
    "        for i in range(idx):\n",
    "            current = current.get_next()\n",
    "        current.get_value()\n",
    "\n",
    "    def __iter__(self):\n",
    "        self.__curr = self.start\n",
    "        return self\n",
    "\n",
    "    def __next__(self):\n",
    "        if self.__curr is None:\n",
    "            raise StopIteration()\n",
    "        val = self.__curr.get_value()\n",
    "        self.__curr = self.__curr.get_next()\n",
    "        return val"
   ]
  },
  {
   "cell_type": "code",
   "execution_count": 2,
   "metadata": {},
   "outputs": [
    {
     "name": "stdout",
     "output_type": "stream",
     "text": [
      "0\n",
      "1\n",
      "4\n",
      "9\n",
      "16\n",
      "25\n",
      "36\n",
      "49\n",
      "64\n",
      "81\n"
     ]
    }
   ],
   "source": [
    "lst = LinkedLiset()\n",
    "for i in range(10):\n",
    "    lst.add(i*i)\n",
    "\n",
    "for i in lst:\n",
    "    print(i)"
   ]
  },
  {
   "cell_type": "code",
   "execution_count": 1,
   "metadata": {},
   "outputs": [
    {
     "name": "stdout",
     "output_type": "stream",
     "text": [
      "1\n",
      "2\n",
      "3\n",
      "4\n",
      "5\n"
     ]
    }
   ],
   "source": [
    "class SimpleIterator:\n",
    "    def __iter__(self):\n",
    "        return self\n",
    "\n",
    "    def __init__(self, limit):\n",
    "        self.limit = limit\n",
    "        self.counter = 0\n",
    "\n",
    "    def __next__(self):\n",
    "        if self.counter < self.limit:\n",
    "            self.counter += 1\n",
    "            return self.counter\n",
    "        else:\n",
    "            raise StopIteration\n",
    "\n",
    "s_iter2 = SimpleIterator(5)\n",
    "for i in s_iter2:\n",
    "    print(i)"
   ]
  },
  {
   "cell_type": "code",
   "execution_count": 2,
   "metadata": {},
   "outputs": [
    {
     "data": {
      "text/plain": [
       "2319713088000.0"
      ]
     },
     "execution_count": 2,
     "metadata": {},
     "output_type": "execute_result"
    }
   ],
   "source": [
    "p = (190**4 - 120/0.3)*1780\n",
    "p"
   ]
  },
  {
   "cell_type": "code",
   "execution_count": null,
   "metadata": {},
   "outputs": [],
   "source": []
  }
 ],
 "metadata": {
  "kernelspec": {
   "display_name": "Python 3",
   "language": "python",
   "name": "python3"
  },
  "language_info": {
   "codemirror_mode": {
    "name": "ipython",
    "version": 3
   },
   "file_extension": ".py",
   "mimetype": "text/x-python",
   "name": "python",
   "nbconvert_exporter": "python",
   "pygments_lexer": "ipython3",
   "version": "3.7.5"
  }
 },
 "nbformat": 4,
 "nbformat_minor": 4
}
