{
 "cells": [
  {
   "cell_type": "markdown",
   "metadata": {},
   "source": [
    "# Итерируемые объекты\n",
    "\n",
    "В прошлой работе была подробно рассмотрена концепция генераторов -- функций, имеющих выражение `yield`. Эти функции имеют возможность приостанавливать свое выполнение и возвращать промежуточное значение. Также был рассмотрен цикл for, который может инициализировать итрератор, вызвав функцию iter(), а также получать следующее значение при помощи вызова next(). \n",
    "\n",
    "Однако, иногда, итератор может быть более сложным, и невозможно описать процесс итерации при помощи только одной функции. Таким образом итерируемым объектом может быть класс. Для того, чтобы класс являлся итерируемым объектом, у него должны были быть определены методы. Это методы `__iter__`, `__next__`. Первый метод вызывается функцией `iter()` и возвращает итерируемый объект, второй метод возвращает следующее значение и вызывается функцией `next()`.\n",
    "\n",
    "При этом, метод `iter()` может возвращать, другой объект по которому можно итерироваться. Это может использоваться для сохранения текущего состояния объекта на момент итерирования.\n",
    "\n",
    "Кроме того, в объектах коллекциях можно получать элемент по индексу при помощи метода `__getitem__`. \n",
    "\n",
    "Реализуем все эти возможности на примере односвязного списка."
   ]
  },
  {
   "cell_type": "code",
   "execution_count": 14,
   "metadata": {},
   "outputs": [],
   "source": [
    "class Node:\n",
    "    def __init__(self, value, nxt=None):\n",
    "        self.value = value\n",
    "        self.nxt = nxt\n",
    "        \n",
    "    def get_value(self):\n",
    "        return self.value\n",
    "    \n",
    "    def get_next(self):\n",
    "        return self.nxt\n",
    "    \n",
    "class LinkedLiset:\n",
    "    def __init__(self):\n",
    "        self.start = None\n",
    "        self.length = 0\n",
    "        self.last = None\n",
    "        \n",
    "    def add(self, value):\n",
    "        elem = Node(value)\n",
    "        if self.start is None:\n",
    "            self.start = elem\n",
    "            self.last = elem\n",
    "        else:\n",
    "            self.last.nxt = elem\n",
    "            self.last = elem\n",
    "        self.length += 1\n",
    "    \n",
    "    def __len__(self):\n",
    "        return self.length\n",
    "    \n",
    "    def __getitem__(self, idx):\n",
    "        if idx >= self.length:\n",
    "            raise IndexError(\"Index out of range\")\n",
    "        current = self.start\n",
    "        for i in range(idx):\n",
    "            current = current.get_next()\n",
    "        current.get_value()\n",
    "        \n",
    "    def __iter__(self):\n",
    "        self.__curr = self.start\n",
    "        return self\n",
    "        \n",
    "    def __next__(self):\n",
    "        if self.__curr is None:\n",
    "            raise StopIteration()\n",
    "        val = self.__curr.get_value()\n",
    "        self.__curr = self.__curr.get_next()\n",
    "        return val"
   ]
  },
  {
   "cell_type": "code",
   "execution_count": 15,
   "metadata": {},
   "outputs": [
    {
     "name": "stdout",
     "output_type": "stream",
     "text": [
      "0\n",
      "1\n",
      "4\n",
      "9\n",
      "16\n",
      "25\n",
      "36\n",
      "49\n",
      "64\n",
      "81\n"
     ]
    }
   ],
   "source": [
    "lst = LinkedLiset()\n",
    "for i in range(10):\n",
    "    lst.add(i*i)\n",
    "    \n",
    "for i in lst:\n",
    "    print(i)"
   ]
  },
  {
   "cell_type": "markdown",
   "metadata": {},
   "source": [
    "При подобном подходе изменения в процессе итерации по основному объекту приведут к изменению и при итерации. Для сохранения состояния объекта на момент начала итерации, в методе `__iter__` необходимо инициализировать объект, хранящий это состояние, по которому также можно осуществлять итерирование."
   ]
  },
  {
   "cell_type": "markdown",
   "metadata": {},
   "source": [
    "## Упражнение 1\n",
    "\n",
    "Проверьте, возможно ли изменить список в процессе итерирования.\n",
    "\n",
    "## Упражнение 2\n",
    "\n",
    "Реализуйте класс `BinTree` двоичного дерева, итерирование по которму происходит в порядке обхода в глубину.\n",
    "\n",
    "## Упражнение 3\n",
    "\n",
    "Одним из важнейших применений генераторов является загрузка наборов данных \"на лету\", без необходимости загрузки в память всего набора. Попробуйте решить похожую задачу.\n",
    "\n",
    "Скачайте архив, и разархивируйте его в отдельную папку в вашей рабочей папке. \n",
    "\n",
    "Вам необходимо создать класс `TextLoader`, который принимает в инициализаторе адрес папки. Метод `__len__` должен возвращать количество текстов в папке. метод `__getitem__` загружает текст, приводит его к нижнему регистру и убирает знаки препинания, при итерировании возвращаются нормализованные тексты, аналогично методу  `__getitem__`.\n"
   ]
  },
  {
   "cell_type": "markdown",
   "metadata": {},
   "source": [
    "# Сопрограммы\n",
    "\n",
    "\n",
    "Хотя это и является одной из самых мощных и интересных концепций, реализованных в языке Python, в большинстве курсов им уделяется довольно мало времени. \n",
    "\n",
    "Рассмотрим ситуацию: есть социальная сеть, и один из ее пользователей в какой-то мопмент запрашивает у сервера, например, страницу другого пользователя. Для получения этой информации, сервер, в свою очередь, подгружает информацию с диска, формирует страницу с результатом и отдает ее обратно пользователю. При этом, операция чтения данных с диска занимает довольно большое количество времени. В это время поток выполнения программы простаивает, ожидая, когда же данные наконец загрузятся в его память. И это было бы не страшно, если бы в сети одновременно сидело мало пользователей, которые, скорее всего, не будут делать запросы к серверу одновременно. Но если система высоконагруженная, то подобные простои становятся недопустимы. Это время можно было бы использовать, чтобы система могла сформировать следующий запрос к диску или базе данных. Для этого надо переключить поток выполнения на другую задачу, которая будет обрабатывать запрос от другого пользователя. Затем, когда следующая задача будет в режиме ожидания, управление будет преключено на первую, которая к тому моменту закончит операцию чтения с диска. Аналогично можно поступить с обменом данными с несколькими пользователями. После отправки пакета одному из них, можно не дожидаясь ответа переключить управление на работу с другим клиентом. "
   ]
  },
  {
   "cell_type": "markdown",
   "metadata": {},
   "source": [
    "Технически сопроцессы являются такими же генераторами и также используют синтаксис ключевого слова `yield`.  Для передачи управления в сопроцесс из основной программы используется метод `send`. Рассмотрим пример сопроцесса."
   ]
  },
  {
   "cell_type": "code",
   "execution_count": 22,
   "metadata": {},
   "outputs": [
    {
     "name": "stdout",
     "output_type": "stream",
     "text": [
      "start\n",
      "Got value 0\n",
      "0\n",
      "Got value 1\n",
      "1\n",
      "Got value 2\n",
      "2\n",
      "Got value 3\n",
      "3\n",
      "Got value 4\n",
      "4\n",
      "Got value 5\n",
      "5\n",
      "Got value 6\n",
      "6\n",
      "Got value 7\n",
      "7\n",
      "Got value 8\n",
      "8\n",
      "Got value 9\n",
      "9\n"
     ]
    }
   ],
   "source": [
    "def print_coroutine():\n",
    "    x = \"start\"\n",
    "    while True:\n",
    "        x = yield x\n",
    "        print(\"Got value\", x)\n",
    "\n",
    "coroutine = print_coroutine()\n",
    "print(next(coroutine))\n",
    "for i in range(10):\n",
    "    print(coroutine.send(i))"
   ]
  },
  {
   "cell_type": "markdown",
   "metadata": {},
   "source": [
    "При инициализации сопрограммы вызывается функция `next`, которая возвращает управление в основную программу в момент первого вызова `yield`. Метод `send` позволяет передать значение и поток выполнения в сопрограмму. Сопрограмма выполняется до появления следующего ключевого слова в коде, а полученное значение возвращается в основную программу.\n",
    "\n",
    "Процесс выполнения внутри сопрограммы можно контролировать при помощи исключений. Для вызова исключения внутри сопроцесса используется метод `throw(Exception, value)`. При этом стоит помнить, что если подобные вызовы возвращают значение при помощи `yield`, то для перехода к следующей ключевой точке необходимо выполнить метод `next`.\n",
    "\n",
    "Остановить выполнение сопрограммы можно при помощи метода `close`. \n",
    "\n",
    "Основной поток, занимающийся переключением между сопрограммами, мы будем называть *планировщиком задач* (*scheduler*)"
   ]
  },
  {
   "cell_type": "code",
   "execution_count": 79,
   "metadata": {},
   "outputs": [
    {
     "name": "stdout",
     "output_type": "stream",
     "text": [
      "Starting coroutine\n",
      "Current element: 0\n",
      "Current sum: 0\n",
      "Current element: 2\n",
      "Current sum: 6\n",
      "Current element: 4\n",
      "Current element: 6\n",
      "Current sum: 21\n",
      "Current element: 8\n",
      "Current sum: 45\n",
      "Current element: 10\n",
      "\n",
      "11\n",
      "66\n",
      "Stop coroutine\n"
     ]
    }
   ],
   "source": [
    "class PrintCurrent(Exception):\n",
    "    pass\n",
    "\n",
    "class PrintSum(Exception):\n",
    "    pass\n",
    "\n",
    "def sum_coroutine():\n",
    "    print(\"Starting coroutine\")\n",
    "    s = 0\n",
    "    try:\n",
    "        while True:\n",
    "            try:\n",
    "                x = yield\n",
    "                s += x\n",
    "            except PrintCurrent:\n",
    "                yield x\n",
    "            except PrintSum:\n",
    "                yield s\n",
    "    finally:\n",
    "        print(\"Stop coroutine\")\n",
    "    \n",
    "coroutine = sum_coroutine()\n",
    "next(coroutine)\n",
    "for i in range(12):\n",
    "    coroutine.send(i)\n",
    "    if i%2 == 0:\n",
    "        print(\"Current element:\", coroutine.throw(PrintCurrent))\n",
    "        next(coroutine)\n",
    "    if i%3 == 0:\n",
    "        print(\"Current sum:\", coroutine.throw(PrintSum))\n",
    "        next(coroutine)\n",
    "\n",
    "print()\n",
    "print(coroutine.throw(PrintCurrent))\n",
    "next(coroutine)\n",
    "\n",
    "print(coroutine.throw(PrintSum))\n",
    "next(coroutine)\n",
    "\n",
    "coroutine.close()"
   ]
  },
  {
   "cell_type": "markdown",
   "metadata": {},
   "source": [
    "## Упражнение 4\n",
    "\n",
    "От некоторого устройства в режиме реального времени приходят данные. Необходимо написать сопрограмму, которая вычисляет среднее, дисперсию, а также количество элементов в переданном наборе данных с устройства. Результаты работы сопрограмма должна выдавать при отправке соответствующих сигналов."
   ]
  },
  {
   "cell_type": "markdown",
   "metadata": {},
   "source": [
    "# `yield from`\n",
    "\n",
    "Как уже было сказано, генераторы (в том числе сопрограммы) могут использоваться для контроля потока выполнения программы. Пранировщик задач распределяет ресурсы, запуская задачу, которая ожидает выполнения, не допуская простоев. Таким образом реализуется асинхронное выполнение программ, в том числе в библиотеке asyncio. \n",
    "\n",
    "Однако, иногда в процессе итерирования, может возникнуть ситуация, в которй необходимо запустить итерацию внутри сопроцесса и передать управление из внутреннего процесса в планировщик задач. Для этого используется конструкция `yield from`."
   ]
  },
  {
   "cell_type": "code",
   "execution_count": 3,
   "metadata": {},
   "outputs": [
    {
     "name": "stdout",
     "output_type": "stream",
     "text": [
      "Generator 1: 0\n",
      "Generator 1: 1\n",
      "Generator 1: 2\n",
      "Generator 1: 3\n",
      "Generator 1: 4\n",
      "Generator 2: 0\n",
      "Generator 2: 1\n",
      "Generator 2: 2\n",
      "Generator 2: 3\n",
      "Generator 2: 4\n"
     ]
    }
   ],
   "source": [
    "def generator1():\n",
    "    for i in range(5):\n",
    "        yield f\"Generator 1: {i}\"\n",
    "        \n",
    "def generator2():\n",
    "    for i in range(5):\n",
    "        yield f\"Generator 2: {i}\"\n",
    "        \n",
    "def generator():\n",
    "    yield from generator1()\n",
    "    yield from generator2()\n",
    "    \n",
    "for i in generator():\n",
    "    print(i)"
   ]
  },
  {
   "cell_type": "markdown",
   "metadata": {},
   "source": [
    "Это же можно осуществить не только с генераторами, но и с сопрограммами. Исключения которые создаются в методе `throw` автоматически пробрасываются через `yield from`."
   ]
  },
  {
   "cell_type": "code",
   "execution_count": 13,
   "metadata": {},
   "outputs": [],
   "source": [
    "class Terminate(Exception):\n",
    "    pass\n",
    "\n",
    "def inner_coroutine():\n",
    "    print(\"Inner coroutine started\")\n",
    "    try:\n",
    "        while True:\n",
    "            try:\n",
    "                x = yield\n",
    "                print(f\"Inner: {x}\")\n",
    "            except Terminate:\n",
    "                break\n",
    "    finally:\n",
    "        print(\"Inner coroutine finished\")\n",
    "    \n",
    "def outer_coroutine():\n",
    "    print(\"Outer coroutine started\")\n",
    "    try:\n",
    "        x = yield\n",
    "        print(f\"Outer: {x}\")\n",
    "        x = yield\n",
    "        print(f\"Outer: {x}\")\n",
    "        \n",
    "        yield from inner_coroutine()\n",
    "        \n",
    "        x = yield\n",
    "        print(f\"Outer: {x}\")\n",
    "    finally:\n",
    "        print(\"Outer coroutine finished\")"
   ]
  },
  {
   "cell_type": "code",
   "execution_count": 15,
   "metadata": {},
   "outputs": [
    {
     "name": "stdout",
     "output_type": "stream",
     "text": [
      "Outer coroutine started\n",
      "Outer: 1\n",
      "Outer: 2\n",
      "Inner coroutine started\n",
      "Inner: 3\n",
      "Inner: 4\n",
      "Inner: 5\n",
      "Inner coroutine finished\n",
      "Outer: 6\n",
      "Outer coroutine finished\n"
     ]
    }
   ],
   "source": [
    "try:\n",
    "    coroutine = outer_coroutine()\n",
    "    next(coroutine)\n",
    "    coroutine.send(1)\n",
    "    coroutine.send(2)\n",
    "    coroutine.send(3)\n",
    "    coroutine.send(4)\n",
    "    coroutine.send(5)\n",
    "    coroutine.throw(Terminate)\n",
    "    coroutine.send(6)\n",
    "except:\n",
    "    pass"
   ]
  },
  {
   "cell_type": "markdown",
   "metadata": {},
   "source": [
    "## Упражнение 5\n",
    "\n",
    "Представьте, что у вас настроено взаимодействие с сервером, от которого приходят пакеты, содержащие сообщения от различных клиентов. Обработка каждого из клиентов должна идти в отдельном потоке. \n",
    "\n",
    "Реализуйте:\n",
    "\n",
    "1) Корутина `connect_user` принимает данные авторизации от пользователя, открывает файл с названием <имя пользователя>.txt и создает на его основе корутину `цrite_to_file`\n",
    "\n",
    "2) Корутина `write_to_file(f_obj)` записывает переданное планировщиком задач сообщение пользователя, которые записываются в файловый объект, переданный в качестве аргумента при генерации. Также принимает и обрабатывает сигнал об окончании соединения и выходит из сопрограммы.\n",
    "\n",
    "3) Планировщик задач, распределяющий задачи по сопроцессам на каждого пользователя."
   ]
  },
  {
   "cell_type": "code",
   "execution_count": 19,
   "metadata": {},
   "outputs": [],
   "source": [
    "def user_connection(username):\n",
    "    import random\n",
    "    for i in range(random.randint(10, 20)):\n",
    "        yield f\"{username} message{i}\"\n",
    "        \n",
    "def establish_connection(auth=True):\n",
    "    import random\n",
    "    id = f\"{random.randint(0,100000000):010}\"\n",
    "    if auth:\n",
    "        yield f\"auth {id}\"\n",
    "    yield from user_connection(id)\n",
    "    if auth:\n",
    "        yield f\"disconnect {id}\""
   ]
  },
  {
   "cell_type": "markdown",
   "metadata": {},
   "source": [
    "Пример данных, приходящих от авторизованного пользователя:"
   ]
  },
  {
   "cell_type": "code",
   "execution_count": 20,
   "metadata": {},
   "outputs": [
    {
     "name": "stdout",
     "output_type": "stream",
     "text": [
      "auth 0081575115\n",
      "0081575115 message0\n",
      "0081575115 message1\n",
      "0081575115 message2\n",
      "0081575115 message3\n",
      "0081575115 message4\n",
      "0081575115 message5\n",
      "0081575115 message6\n",
      "0081575115 message7\n",
      "0081575115 message8\n",
      "0081575115 message9\n",
      "0081575115 message10\n",
      "0081575115 message11\n",
      "0081575115 message12\n",
      "0081575115 message13\n",
      "0081575115 message14\n",
      "0081575115 message15\n",
      "0081575115 message16\n",
      "0081575115 message17\n",
      "0081575115 message18\n",
      "disconnect 0081575115\n"
     ]
    }
   ],
   "source": [
    "for i in establish_connection(): print(i)"
   ]
  },
  {
   "cell_type": "markdown",
   "metadata": {},
   "source": [
    "Пример данных, приходящих от неавторизованного пользователя:"
   ]
  },
  {
   "cell_type": "code",
   "execution_count": 21,
   "metadata": {},
   "outputs": [
    {
     "name": "stdout",
     "output_type": "stream",
     "text": [
      "0015354373 message0\n",
      "0015354373 message1\n",
      "0015354373 message2\n",
      "0015354373 message3\n",
      "0015354373 message4\n",
      "0015354373 message5\n",
      "0015354373 message6\n",
      "0015354373 message7\n",
      "0015354373 message8\n",
      "0015354373 message9\n",
      "0015354373 message10\n",
      "0015354373 message11\n",
      "0015354373 message12\n"
     ]
    }
   ],
   "source": [
    "for i in establish_connection(False): print(i)"
   ]
  },
  {
   "cell_type": "markdown",
   "metadata": {},
   "source": [
    "Данные от неавторизованных или разлогиненных пользователей обрабатываться не должны."
   ]
  },
  {
   "cell_type": "code",
   "execution_count": 55,
   "metadata": {},
   "outputs": [],
   "source": [
    "def connection():\n",
    "    import random\n",
    "    connections = [establish_connection(True) for i in range(10)]\n",
    "    connections.append(establish_connection(False))\n",
    "    connections.append(establish_connection(False))\n",
    "    while len(connections):\n",
    "        conn = random.choice(connections)\n",
    "        try:\n",
    "            yield next(conn)\n",
    "        except StopIteration:\n",
    "            del connections[connections.index(conn)]"
   ]
  },
  {
   "cell_type": "markdown",
   "metadata": {},
   "source": [
    "Пример сообщения, которое надо обработать."
   ]
  },
  {
   "cell_type": "code",
   "execution_count": 56,
   "metadata": {
    "scrolled": false
   },
   "outputs": [
    {
     "name": "stdout",
     "output_type": "stream",
     "text": [
      "auth 0045887860\n",
      "auth 0090400277\n",
      "0088966506 message0\n",
      "0088966506 message1\n",
      "auth 0039501527\n",
      "auth 0086361966\n",
      "0086361966 message0\n",
      "0039501527 message0\n",
      "auth 0029452878\n",
      "0079691039 message0\n",
      "auth 0066912582\n",
      "0088966506 message2\n",
      "0045887860 message0\n",
      "0086361966 message1\n",
      "0066912582 message0\n",
      "0086361966 message2\n",
      "0066912582 message1\n",
      "0029452878 message0\n",
      "auth 0019846552\n",
      "0019846552 message0\n",
      "0086361966 message3\n",
      "auth 0029224031\n",
      "0090400277 message0\n",
      "0019846552 message1\n",
      "0029224031 message0\n",
      "auth 0002824777\n",
      "0029224031 message1\n",
      "0088966506 message3\n",
      "0090400277 message1\n",
      "auth 0094056984\n",
      "0086361966 message4\n",
      "0066912582 message2\n",
      "0029224031 message2\n",
      "0029452878 message1\n",
      "0079691039 message1\n",
      "0029452878 message2\n",
      "0094056984 message0\n",
      "0079691039 message2\n",
      "0019846552 message2\n",
      "0029452878 message3\n",
      "0066912582 message3\n",
      "0019846552 message3\n",
      "0029452878 message4\n",
      "0088966506 message4\n",
      "0088966506 message5\n",
      "0019846552 message4\n",
      "0086361966 message5\n",
      "0066912582 message4\n",
      "0002824777 message0\n",
      "0094056984 message1\n",
      "0002824777 message1\n",
      "0029452878 message5\n",
      "0039501527 message1\n",
      "0079691039 message3\n",
      "0086361966 message6\n",
      "0094056984 message2\n",
      "0079691039 message4\n",
      "0045887860 message1\n",
      "0045887860 message2\n",
      "0002824777 message2\n",
      "0066912582 message5\n",
      "0066912582 message6\n",
      "0029452878 message6\n",
      "0094056984 message3\n",
      "0039501527 message2\n",
      "0039501527 message3\n",
      "0029224031 message3\n",
      "0045887860 message3\n",
      "0090400277 message2\n",
      "0079691039 message5\n",
      "0079691039 message6\n",
      "0088966506 message6\n",
      "0039501527 message4\n",
      "0029224031 message4\n",
      "0029224031 message5\n",
      "0094056984 message4\n",
      "0029224031 message6\n",
      "0019846552 message5\n",
      "0090400277 message3\n",
      "0086361966 message7\n",
      "0019846552 message6\n",
      "0019846552 message7\n",
      "0066912582 message7\n",
      "0088966506 message7\n",
      "0094056984 message5\n",
      "0090400277 message4\n",
      "0066912582 message8\n",
      "0090400277 message5\n",
      "0019846552 message8\n",
      "0086361966 message8\n",
      "0045887860 message4\n",
      "0088966506 message8\n",
      "0029224031 message7\n",
      "0002824777 message3\n",
      "0002824777 message4\n",
      "0094056984 message6\n",
      "0039501527 message5\n",
      "0066912582 message9\n",
      "0079691039 message7\n",
      "0090400277 message6\n",
      "0066912582 message10\n",
      "0039501527 message6\n",
      "0094056984 message7\n",
      "0090400277 message7\n",
      "0029224031 message8\n",
      "0094056984 message8\n",
      "0079691039 message8\n",
      "0094056984 message9\n",
      "0079691039 message9\n",
      "0029224031 message9\n",
      "0090400277 message8\n",
      "0039501527 message7\n",
      "0019846552 message9\n",
      "0086361966 message9\n",
      "0079691039 message10\n",
      "0039501527 message8\n",
      "0090400277 message9\n",
      "0094056984 message10\n",
      "0045887860 message5\n",
      "0019846552 message10\n",
      "0039501527 message9\n",
      "0086361966 message10\n",
      "0066912582 message11\n",
      "0088966506 message9\n",
      "0079691039 message11\n",
      "0019846552 message11\n",
      "0086361966 message11\n",
      "0094056984 message11\n",
      "0066912582 message12\n",
      "0079691039 message12\n",
      "0045887860 message6\n",
      "0039501527 message10\n",
      "0045887860 message7\n",
      "0094056984 message12\n",
      "0086361966 message12\n",
      "0002824777 message5\n",
      "0039501527 message11\n",
      "0086361966 message13\n",
      "0029224031 message10\n",
      "0086361966 message14\n",
      "disconnect 0029224031\n",
      "0045887860 message8\n",
      "0094056984 message13\n",
      "0088966506 message10\n",
      "0002824777 message6\n",
      "0079691039 message13\n",
      "0039501527 message12\n",
      "0029452878 message7\n",
      "0039501527 message13\n",
      "0066912582 message13\n",
      "disconnect 0090400277\n",
      "0019846552 message12\n",
      "0094056984 message14\n",
      "0045887860 message9\n",
      "0002824777 message7\n",
      "0066912582 message14\n",
      "0029452878 message8\n",
      "0094056984 message15\n",
      "0079691039 message14\n",
      "0002824777 message8\n",
      "0045887860 message10\n",
      "0088966506 message11\n",
      "0039501527 message14\n",
      "0019846552 message13\n",
      "0019846552 message14\n",
      "disconnect 0086361966\n",
      "0039501527 message15\n",
      "0079691039 message15\n",
      "0029452878 message9\n",
      "0079691039 message16\n",
      "0094056984 message16\n",
      "0029452878 message10\n",
      "0094056984 message17\n",
      "0045887860 message11\n",
      "0039501527 message16\n",
      "0045887860 message12\n",
      "0094056984 message18\n",
      "0079691039 message17\n",
      "0045887860 message13\n",
      "0066912582 message15\n",
      "0019846552 message15\n",
      "0088966506 message12\n",
      "0029452878 message11\n",
      "0066912582 message16\n",
      "disconnect 0094056984\n",
      "0002824777 message9\n",
      "0029452878 message12\n",
      "disconnect 0045887860\n",
      "0002824777 message10\n",
      "0079691039 message18\n",
      "0066912582 message17\n",
      "0088966506 message13\n",
      "0039501527 message17\n",
      "0002824777 message11\n",
      "disconnect 0039501527\n",
      "0029452878 message13\n",
      "0066912582 message18\n",
      "disconnect 0066912582\n",
      "0019846552 message16\n",
      "0002824777 message12\n",
      "0029452878 message14\n",
      "0002824777 message13\n",
      "0002824777 message14\n",
      "0002824777 message15\n",
      "0019846552 message17\n",
      "0029452878 message15\n",
      "disconnect 0019846552\n",
      "0029452878 message16\n",
      "0029452878 message17\n",
      "0029452878 message18\n",
      "disconnect 0029452878\n",
      "0002824777 message16\n",
      "0002824777 message17\n",
      "disconnect 0002824777\n"
     ]
    }
   ],
   "source": [
    "for i in connection(): \n",
    "    print(i)"
   ]
  }
 ],
 "metadata": {
  "kernelspec": {
   "display_name": "Python 3",
   "language": "python",
   "name": "python3"
  },
  "language_info": {
   "codemirror_mode": {
    "name": "ipython",
    "version": 3
   },
   "file_extension": ".py",
   "mimetype": "text/x-python",
   "name": "python",
   "nbconvert_exporter": "python",
   "pygments_lexer": "ipython3",
   "version": "3.7.5"
  }
 },
 "nbformat": 4,
 "nbformat_minor": 2
}
