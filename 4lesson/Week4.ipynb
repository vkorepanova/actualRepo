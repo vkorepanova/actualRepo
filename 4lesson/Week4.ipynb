{
 "cells": [
  {
   "cell_type": "markdown",
   "metadata": {},
   "source": [
    "## Упражнение 1"
   ]
  },
  {
   "cell_type": "code",
   "execution_count": 5,
   "metadata": {},
   "outputs": [
    {
     "name": "stdout",
     "output_type": "stream",
     "text": [
      "6\n",
      "8\n"
     ]
    }
   ],
   "source": [
    "def fibonacci(n):\n",
    "    if n in (1, 2):\n",
    "        return 1\n",
    "    return fibonacci(n - 1) + fibonacci(n - 2)\n",
    "\n",
    "number = int(input())\n",
    "print(fibonacci(number))"
   ]
  },
  {
   "cell_type": "code",
   "execution_count": 8,
   "metadata": {},
   "outputs": [
    {
     "name": "stderr",
     "output_type": "stream",
     "text": [
      "usage: ipykernel_launcher.py [-h] [-n [N]] [German]\n",
      "ipykernel_launcher.py: error: unrecognized arguments: -f\n"
     ]
    },
    {
     "ename": "SystemExit",
     "evalue": "2",
     "output_type": "error",
     "traceback": [
      "An exception has occurred, use %tb to see the full traceback.\n",
      "\u001b[1;31mSystemExit\u001b[0m\u001b[1;31m:\u001b[0m 2\n"
     ]
    }
   ],
   "source": [
    "import sys\n",
    "import argparse\n",
    "\n",
    "\n",
    "def createParser ():\n",
    "    parser = argparse.ArgumentParser()\n",
    "    parser.add_argument ('German', nargs='?')\n",
    "    parser.add_argument ('-n', nargs='?')\n",
    "    \n",
    "    return parser\n",
    "\n",
    "\n",
    "if __name__ == '__main__':\n",
    "    parser = createParser()\n",
    "    namespace = parser.parse_args (sys.argv[1:])\n",
    "    if namespace.n:\n",
    "        print(fibonacci(int(namespace.n)))\n",
    "    elif namespace.German:\n",
    "        print(fibonacci(int(namespace.German)))\n",
    "    else:\n",
    "        print(\"OOOOOOOOй\")"
   ]
  },
  {
   "cell_type": "markdown",
   "metadata": {},
   "source": [
    "## Упражнение 2"
   ]
  },
  {
   "cell_type": "code",
   "execution_count": 70,
   "metadata": {},
   "outputs": [
    {
     "name": "stdout",
     "output_type": "stream",
     "text": [
      "5 \n",
      "Нет(\n"
     ]
    }
   ],
   "source": [
    "\n",
    "def print_f(func):\n",
    "    def p(a):\n",
    "        prom = func(a)\n",
    "        if len(prom)>10:\n",
    "            print(\"Очень много\")\n",
    "        if prom == []:\n",
    "            print(\"Нет(\")\n",
    "    return p\n",
    "\n",
    "@print_f\n",
    "def f(a):\n",
    "    l = [] \n",
    "    for i in a:\n",
    "        if int(i)%2 ==0:\n",
    "            l.append(i)\n",
    "    return(l)\n",
    "\n",
    "a = input().split()\n",
    "\n",
    "f(a)"
   ]
  },
  {
   "cell_type": "markdown",
   "metadata": {},
   "source": [
    "## Упражнение 3"
   ]
  },
  {
   "cell_type": "code",
   "execution_count": 103,
   "metadata": {},
   "outputs": [
    {
     "name": "stdout",
     "output_type": "stream",
     "text": [
      "(4, 2)\n",
      "2.0\n"
     ]
    }
   ],
   "source": [
    "def swap(func):\n",
    "    def h(*args, **kwargs):\n",
    "        k = args[::-1]\n",
    "        prom = func(*k, **kwargs)\n",
    "    return h\n",
    "\n",
    "@swap\n",
    "def div(x, y, show = False):\n",
    "    res = x / y\n",
    "    if show:\n",
    "        print(res)\n",
    "    return res        \n",
    "\n",
    "div(2, 4, show=True)"
   ]
  },
  {
   "cell_type": "markdown",
   "metadata": {},
   "source": [
    "## Упражнение 4"
   ]
  },
  {
   "cell_type": "code",
   "execution_count": 6,
   "metadata": {},
   "outputs": [],
   "source": [
    "import time\n",
    "\n",
    "def log(func):\n",
    "    \n",
    "    def p(a, b):\n",
    "        start = time.time()\n",
    "        answer = func(a, b)\n",
    "        end = time.time()\n",
    "        k = start - end\n",
    "        with open(\"./help.txt\", \"w\") as file:\n",
    "            file.write(f\"Время вызова функции: {start} \\n\")\n",
    "            file.write(f\"Входящие аргументы: {a, b} \\n\")\n",
    "            file.write(f\"Ответ: {answer} \\n\")\n",
    "            file.write(f\"Время завершения работы функции: {end} \\n\")\n",
    "            file.write(f\"Время работы функции: {end-start} \\n\")\n",
    "    return p\n",
    "    \n",
    "@log    \n",
    "def sum_f(a, b):\n",
    "    for i in range(10000):\n",
    "        k = a**(10)\n",
    "    return k\n",
    "\n",
    "sum_f(100, 6)"
   ]
  },
  {
   "cell_type": "code",
   "execution_count": 121,
   "metadata": {},
   "outputs": [
    {
     "name": "stdout",
     "output_type": "stream",
     "text": [
      "a: 1, b: 2, c: 3\n",
      "a: 1\n"
     ]
    }
   ],
   "source": [
    "a = 1\n",
    "b = 2\n",
    "\n",
    "print(f\"a: {a}, b: {b}, c: {a + b}\")\n",
    "print(\"a: {a}\".format(a=a))"
   ]
  },
  {
   "cell_type": "code",
   "execution_count": null,
   "metadata": {},
   "outputs": [],
   "source": []
  }
 ],
 "metadata": {
  "kernelspec": {
   "display_name": "Python 3",
   "language": "python",
   "name": "python3"
  },
  "language_info": {
   "codemirror_mode": {
    "name": "ipython",
    "version": 3
   },
   "file_extension": ".py",
   "mimetype": "text/x-python",
   "name": "python",
   "nbconvert_exporter": "python",
   "pygments_lexer": "ipython3",
   "version": "3.7.5"
  }
 },
 "nbformat": 4,
 "nbformat_minor": 4
}
