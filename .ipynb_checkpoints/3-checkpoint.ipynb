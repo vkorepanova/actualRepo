{
 "cells": [
  {
   "cell_type": "code",
   "execution_count": 39,
   "metadata": {},
   "outputs": [
    {
     "name": "stdout",
     "output_type": "stream",
     "text": [
      "mur ^-^\n"
     ]
    }
   ],
   "source": [
    "with open(\"./mur.txt\", \"r\") as file:\n",
    "    for line in file:\n",
    "        print(line)"
   ]
  },
  {
   "cell_type": "code",
   "execution_count": 53,
   "metadata": {},
   "outputs": [],
   "source": [
    "a = [['qeg', 'qebfj'], ['2', '3'], ['lkqbfv']]\n",
    "with open(\"./untitled.txt\", 'w') as file:\n",
    "    for i in a:\n",
    "        file.write(' '.join(i +['\\n']))\n"
   ]
  },
  {
   "cell_type": "code",
   "execution_count": 63,
   "metadata": {},
   "outputs": [],
   "source": [
    "a = ['qeg', 'qebfj', '2', '3', 'lkqbfv']\n",
    "with open(\"./untitled.txt\", 'w') as file:\n",
    "    file.write('\\n'.join(a))\n"
   ]
  },
  {
   "cell_type": "code",
   "execution_count": 3,
   "metadata": {},
   "outputs": [
    {
     "name": "stdout",
     "output_type": "stream",
     "text": [
      "klajbfv\n",
      "Do it again\n",
      "./main.zip\n"
     ]
    }
   ],
   "source": [
    "import shutil\n",
    "import os\n",
    "k = []\n",
    "f = []\n",
    "def find_str(str):\n",
    "        find_py = str.rfind(\".py\")\n",
    "        if find_py != -1 :\n",
    "            k.append(str)\n",
    "        return str\n",
    "while True:\n",
    "    try:\n",
    "        n = input()\n",
    "        shutil.unpack_archive(n)\n",
    "        break\n",
    "    except OSError:\n",
    "        print(\"Do it again\")\n",
    "directory = \"./main\"\n",
    "for current_dir, directory, files in os.walk(\"./main\"):  \n",
    "    f.extend(files)\n",
    "for i in f:\n",
    "    find_str(i)\n",
    "l = sorted(k)\n",
    "with open(\"./py_file.txt\", 'w') as file:\n",
    "    file.write('\\n'.join(l))\n",
    "file.close()"
   ]
  },
  {
   "cell_type": "code",
   "execution_count": null,
   "metadata": {},
   "outputs": [],
   "source": []
  }
 ],
 "metadata": {
  "kernelspec": {
   "display_name": "Python 3",
   "language": "python",
   "name": "python3"
  },
  "language_info": {
   "codemirror_mode": {
    "name": "ipython",
    "version": 3
   },
   "file_extension": ".py",
   "mimetype": "text/x-python",
   "name": "python",
   "nbconvert_exporter": "python",
   "pygments_lexer": "ipython3",
   "version": "3.7.5"
  }
 },
 "nbformat": 4,
 "nbformat_minor": 4
}
