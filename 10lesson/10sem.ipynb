{
 "cells": [
  {
   "cell_type": "markdown",
   "metadata": {},
   "source": [
    "## Упраженение 1"
   ]
  },
  {
   "cell_type": "code",
   "execution_count": 3,
   "metadata": {},
   "outputs": [
    {
     "name": "stdout",
     "output_type": "stream",
     "text": [
      "1 2 3 4 5 6 7 8 9 10 10\n"
     ]
    }
   ],
   "source": [
    "import threading\n",
    "import sys\n",
    "\n",
    "\n",
    "def thread_job():\n",
    "    global counter\n",
    "    old_counter = counter\n",
    "    counter = old_counter + 1\n",
    "    print('{} '.format(counter), end='')\n",
    "    sys.stdout.flush()\n",
    "\n",
    "\n",
    "counter = 0\n",
    "threads = [threading.Thread(target=thread_job) for _ in range(10)]\n",
    "for thread in threads:\n",
    "    thread.start()\n",
    "for thread in threads:\n",
    "    thread.join()\n",
    "print(counter)\n",
    "    "
   ]
  },
  {
   "cell_type": "code",
   "execution_count": 23,
   "metadata": {},
   "outputs": [
    {
     "name": "stdout",
     "output_type": "stream",
     "text": [
      "1 2 3 4 5 6 7 8 8 8 8\n"
     ]
    }
   ],
   "source": [
    "import threading\n",
    "import random\n",
    "import time\n",
    "import sys\n",
    "\n",
    "\n",
    "def thread_job():\n",
    "    global counter\n",
    "    old_counter = counter\n",
    "    time.sleep(random.randint(0, 1))\n",
    "    counter = old_counter + 1\n",
    "    print('{} '.format(counter), end='')\n",
    "\n",
    "\n",
    "\n",
    "counter = 0\n",
    "threads = [threading.Thread(target=thread_job) for _ in range(10)]\n",
    "for thread in threads:\n",
    "    thread.start()\n",
    "for thread in threads:\n",
    "    thread.join()\n",
    "print(counter)"
   ]
  },
  {
   "cell_type": "code",
   "execution_count": 26,
   "metadata": {},
   "outputs": [
    {
     "name": "stdout",
     "output_type": "stream",
     "text": [
      "1, 2, 3, 4, 5, 6, 7, 8, 9, 10, 10\n",
      "1, 2, 3, 4, 5, 6, 7, 8, 9, 10, 11, 12, 13, 14, 15, 15\n"
     ]
    }
   ],
   "source": [
    "import threading\n",
    "import random\n",
    "import time\n",
    "import sys\n",
    "\n",
    "\n",
    "def thread_job():\n",
    "    with lock:\n",
    "        global counter\n",
    "        old_counter = counter\n",
    "        time.sleep(random.randint(0, 1))\n",
    "        counter = old_counter + 1\n",
    "        print('{}, '.format(counter), end='')\n",
    "        sys.stdout.flush()\n",
    "\n",
    "\n",
    "lock = threading.Lock()\n",
    "counter = 0\n",
    "threads = [threading.Thread(target=thread_job) for _ in range(10)]\n",
    "for thread in threads:\n",
    "    thread.start()\n",
    "for thread in threads:\n",
    "    thread.join()\n",
    "print(counter)\n",
    "\n",
    "lock = threading.Lock()\n",
    "counter = 0\n",
    "for i in range(15):\n",
    "    thread = threading.Thread(target=thread_job)\n",
    "    thread.start()\n",
    "    thread.join()\n",
    "print(counter)"
   ]
  },
  {
   "cell_type": "markdown",
   "metadata": {},
   "source": [
    "## Упраженение 2"
   ]
  },
  {
   "cell_type": "code",
   "execution_count": null,
   "metadata": {},
   "outputs": [
    {
     "name": "stdout",
     "output_type": "stream",
     "text": [
      "... pinging  192.168.178.20\n"
     ]
    }
   ],
   "source": [
    "### переписать, используя threading\n",
    "import os, re\n",
    "\n",
    "received_packages = re.compile(r\"(\\d) received\")\n",
    "status = (\"no response\", \"alive but losses\", \"alive\")\n",
    "\n",
    "for suffix in range(20, 30):\n",
    "    ip = \"192.168.178.\" + str(suffix)\n",
    "    ping_out = os.popen(\"ping -q -c2 \" + ip, \"r\")  # получение вердикта\n",
    "    print(\"... pinging \", ip)\n",
    "    while True:\n",
    "        line = ping_out.readline()\n",
    "        if not line:\n",
    "            break\n",
    "        n_received = received_packages.findall(line)\n",
    "        if n_received:\n",
    "            print(ip + \": \" + status[int(n_received[0])])\n",
    "    "
   ]
  },
  {
   "cell_type": "code",
   "execution_count": 6,
   "metadata": {},
   "outputs": [
    {
     "name": "stdout",
     "output_type": "stream",
     "text": [
      "... pinging  192.168.178.20\n",
      "... pinging  192.168.178.21\n",
      "... pinging  192.168.178.22\n",
      "... pinging  192.168.178.23\n",
      "... pinging  192.168.178.24\n",
      "... pinging  192.168.178.25\n",
      "... pinging  192.168.178.26\n",
      "... pinging  192.168.178.27\n",
      "... pinging  192.168.178.28\n",
      "... pinging  192.168.178.29\n"
     ]
    }
   ],
   "source": [
    "import threading\n",
    "import os, re\n",
    "\n",
    "received_packages = re.compile(r\"(\\d) received\")\n",
    "status = (\"no response\", \"alive but losses\", \"alive\")\n",
    "\n",
    "def ping_out(suffix):\n",
    "    with lock:\n",
    "        ip = \"192.168.178.\" + str(suffix)\n",
    "        ping_out = os.popen(\"ping -q -c2 \" + ip, \"r\")  # получение вердикта\n",
    "        print(\"... pinging \", ip)\n",
    "        while True:\n",
    "            line = ping_out.readline()\n",
    "            if not line:\n",
    "                break\n",
    "            n_received = received_packages.findall(line)\n",
    "            if n_received:\n",
    "                print(ip + \": \" + status[int(n_received[0])])\n",
    "            \n",
    "lock = threading.Lock()\n",
    "threads = [threading.Thread(target=ping_out, args=(suffix, )) for suffix in range(20, 30)]\n",
    "for thread in threads:\n",
    "    thread.start()\n",
    "for thread in threads:\n",
    "    thread.join()"
   ]
  },
  {
   "cell_type": "markdown",
   "metadata": {},
   "source": [
    "## Упражнение 3"
   ]
  },
  {
   "cell_type": "code",
   "execution_count": 14,
   "metadata": {},
   "outputs": [
    {
     "name": "stdout",
     "output_type": "stream",
     "text": [
      "7\n",
      "191\n",
      "\n",
      " 0.0029904842376708984\n"
     ]
    }
   ],
   "source": [
    "import threading\n",
    "import time\n",
    "\n",
    "N = int(input())\n",
    "\n",
    "start_time = time.time()\n",
    "def summ(prom):\n",
    "    with lock:\n",
    "        global answer\n",
    "        answer+=sum(prom)\n",
    "threads = []\n",
    "prom = [2, 3, 4, 5, 6, 7, 8, 1, 19, 20, 30, 40, 13, 16, 17]\n",
    "\n",
    "answer = 0\n",
    "lock = threading.Lock()\n",
    "for i in range(0, len(prom), int(len(prom)/N)+1):\n",
    "    threads.append(threading.Thread(target=summ, args = (prom[i:i+int(len(prom)/N)+1], ) ))\n",
    "\n",
    "for thread in threads:\n",
    "    thread.start()\n",
    "for thread in threads:\n",
    "    thread.join()\n",
    "print(answer)\n",
    "\n",
    "print(f'\\n {time.time()-start_time}')"
   ]
  },
  {
   "cell_type": "markdown",
   "metadata": {},
   "source": [
    "## Упраженение 4"
   ]
  },
  {
   "cell_type": "code",
   "execution_count": 18,
   "metadata": {},
   "outputs": [
    {
     "name": "stdout",
     "output_type": "stream",
     "text": [
      "1.2965762615203857\n"
     ]
    }
   ],
   "source": [
    "import urllib.request\n",
    "import time\n",
    "\n",
    "\n",
    "urls = [\n",
    "    'https://www.yandex.ru', 'https://www.google.com',\n",
    "    'https://habrahabr.ru', 'https://www.python.org',\n",
    "    'https://isocpp.org',\n",
    "]\n",
    "\n",
    "\n",
    "def read_url(url):\n",
    "    with urllib.request.urlopen(url) as u:\n",
    "        return u.read()\n",
    "\n",
    "\n",
    "start = time.time()\n",
    "threads = [threading.Thread(target=read_url, args=(url, )) for url in urls]\n",
    "for thread in threads:\n",
    "    thread.start()\n",
    "for thread in threads:\n",
    "    thread.join()\n",
    "print(time.time() - start)"
   ]
  },
  {
   "cell_type": "code",
   "execution_count": 19,
   "metadata": {},
   "outputs": [
    {
     "name": "stdout",
     "output_type": "stream",
     "text": [
      "2.6040890216827393\n"
     ]
    }
   ],
   "source": [
    "import urllib.request\n",
    "import time\n",
    "\n",
    "\n",
    "urls = [\n",
    "    'https://www.yandex.ru', 'https://www.google.com',\n",
    "    'https://habrahabr.ru', 'https://www.python.org',\n",
    "    'https://isocpp.org',\n",
    "]\n",
    "\n",
    "\n",
    "def read_url(url):\n",
    "    with urllib.request.urlopen(url) as u:\n",
    "        return u.read()\n",
    "\n",
    "\n",
    "start = time.time()\n",
    "for url in urls:\n",
    "    read_url(url)\n",
    "print(time.time() - start)"
   ]
  },
  {
   "cell_type": "markdown",
   "metadata": {},
   "source": [
    "## Упраженение 5"
   ]
  },
  {
   "cell_type": "code",
   "execution_count": 25,
   "metadata": {},
   "outputs": [
    {
     "name": "stdout",
     "output_type": "stream",
     "text": [
      "[]\n"
     ]
    }
   ],
   "source": [
    "import multiprocessing\n",
    "\n",
    "\n",
    "def worker():\n",
    "    LIST.append('item')\n",
    "\n",
    "LIST = []\n",
    "\n",
    "\n",
    "if __name__ == \"__main__\":\n",
    "    processes = [\n",
    "        multiprocessing.Process(target=worker)\n",
    "        for _ in range(5)\n",
    "    ]\n",
    "    for p in processes:\n",
    "        p.start()\n",
    "    for p in processes:\n",
    "        p.join()\n",
    "    print(LIST)"
   ]
  },
  {
   "cell_type": "code",
   "execution_count": 24,
   "metadata": {},
   "outputs": [],
   "source": [
    "from multiprocessing import Process\n",
    "\n",
    "\n",
    "def f(name):\n",
    "    print('hello', name)\n",
    "\n",
    "\n",
    "if __name__ == '__main__':\n",
    "    p = Process(target=f, args=('bob', ))\n",
    "    p.start()\n",
    "    p.join()"
   ]
  }
 ],
 "metadata": {
  "kernelspec": {
   "display_name": "Python 3",
   "language": "python",
   "name": "python3"
  },
  "language_info": {
   "codemirror_mode": {
    "name": "ipython",
    "version": 3
   },
   "file_extension": ".py",
   "mimetype": "text/x-python",
   "name": "python",
   "nbconvert_exporter": "python",
   "pygments_lexer": "ipython3",
   "version": "3.7.5"
  }
 },
 "nbformat": 4,
 "nbformat_minor": 4
}
