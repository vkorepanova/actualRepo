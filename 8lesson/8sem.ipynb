{
 "cells": [
  {
   "cell_type": "markdown",
   "metadata": {},
   "source": [
    "## Упражнение 1"
   ]
  },
  {
   "cell_type": "code",
   "execution_count": 10,
   "metadata": {},
   "outputs": [
    {
     "name": "stdout",
     "output_type": "stream",
     "text": [
      "0.0\n",
      "1.0\n",
      "1.4142135623730951\n",
      "1.7320508075688772\n",
      "2.0\n",
      "2.23606797749979\n",
      "2.449489742783178\n",
      "2.6457513110645907\n",
      "2.8284271247461903\n",
      "3.0\n"
     ]
    }
   ],
   "source": [
    "def print_map(f, _iter):\n",
    "    a = iter(_iter)\n",
    "    while True:\n",
    "        try:\n",
    "            \n",
    "            next_element = next(a) \n",
    "            print(f(next_element)) \n",
    "        \n",
    "        except StopIteration: \n",
    "            break\n",
    "            \n",
    "a = [i for i in range(10)]\n",
    "import math\n",
    "\n",
    "print_map(math.sqrt, a)"
   ]
  },
  {
   "cell_type": "markdown",
   "metadata": {},
   "source": [
    "# Генераторы\n",
    "## Упражнение 2"
   ]
  },
  {
   "cell_type": "code",
   "execution_count": 27,
   "metadata": {},
   "outputs": [
    {
     "name": "stdout",
     "output_type": "stream",
     "text": [
      "7\n",
      "0\n",
      "1\n",
      "1\n",
      "2\n",
      "3\n",
      "5\n",
      "8\n"
     ]
    }
   ],
   "source": [
    "def fibonacci(n):\n",
    "    if n == 0:\n",
    "        return 0\n",
    "    if n in (1, 2):\n",
    "        return 1\n",
    "    return fibonacci(n - 1) + fibonacci(n - 2)\n",
    "n = int(input())\n",
    "lst = [i for i in range(n)]\n",
    "\n",
    "for i in map(fibonacci, lst):\n",
    "    print(i)"
   ]
  },
  {
   "cell_type": "markdown",
   "metadata": {},
   "source": [
    "## Упражнение 3"
   ]
  },
  {
   "cell_type": "code",
   "execution_count": 128,
   "metadata": {},
   "outputs": [
    {
     "name": "stdout",
     "output_type": "stream",
     "text": [
      "[0, 1, 4, 9, 16]\n",
      "[[2, 3, 5, 1, 7], [0, 1, 2, 3, 4]]\n",
      "[(0, 'a'), (1, 'c'), (2, 'g')]\n"
     ]
    }
   ],
   "source": [
    "###\n",
    "###    map\n",
    "###\n",
    "\n",
    "def _map(func, _iter, *rest):\n",
    "    for args in zip(_iter, *rest):\n",
    "        yield func(*args)\n",
    "        \n",
    "xs = range(5)       \n",
    "print(list(_map(lambda x: x**2, xs)))\n",
    "\n",
    "\n",
    "### \n",
    "###    zip_longest\n",
    "###    \n",
    "def _zip(*args, fillvalue=None):\n",
    "    answer = [list(i) for i in args]\n",
    "    return answer\n",
    "        \n",
    "print(list(_zip([2,3,5,1,7], xs)))\n",
    "\n",
    "\n",
    "###\n",
    "###    enumerate\n",
    "###\n",
    "\n",
    "def _enumerate(s):\n",
    "    answer = []\n",
    "    for i in range(len(s)):\n",
    "        answer.append((i, s[i]))\n",
    "    return answer\n",
    "\n",
    "print(_enumerate(['a', 'c', 'g']))\n",
    "    \n"
   ]
  },
  {
   "cell_type": "markdown",
   "metadata": {},
   "source": [
    "## Упражнение №1"
   ]
  },
  {
   "cell_type": "code",
   "execution_count": 54,
   "metadata": {},
   "outputs": [
    {
     "name": "stdout",
     "output_type": "stream",
     "text": [
      "3 4\n",
      "4 5\n",
      "('3', '4') ('3', '5') ('4', '4') ('4', '5')\n"
     ]
    }
   ],
   "source": [
    "import itertools\n",
    "\n",
    "def get_cartesian_product(a, b):\n",
    "    try: \n",
    "        return list(itertools.product(a, b))\n",
    "    except RuntimeError:\n",
    "        raise RuntimeError(\"Not implemented\")\n",
    "a = input().split()\n",
    "b = input().split()\n",
    "print(*get_cartesian_product(a, b))"
   ]
  },
  {
   "cell_type": "markdown",
   "metadata": {},
   "source": [
    "## Упражнение №2"
   ]
  },
  {
   "cell_type": "code",
   "execution_count": 57,
   "metadata": {},
   "outputs": [
    {
     "name": "stdout",
     "output_type": "stream",
     "text": [
      "cat\n",
      "2\n",
      "[('a', 'c'), ('a', 't'), ('c', 'a'), ('c', 't'), ('t', 'a'), ('t', 'c')]\n"
     ]
    }
   ],
   "source": [
    "import itertools\n",
    "\n",
    "def get_permutations(s, n):\n",
    "    \n",
    "    return list(itertools.permutations(s, n))\n",
    "\n",
    "s = input()\n",
    "n = int(input())\n",
    "\n",
    "print(sorted(get_permutations(s, n)))"
   ]
  },
  {
   "cell_type": "markdown",
   "metadata": {},
   "source": [
    "## Упражнение №3"
   ]
  },
  {
   "cell_type": "code",
   "execution_count": 84,
   "metadata": {},
   "outputs": [
    {
     "name": "stdout",
     "output_type": "stream",
     "text": [
      "cat\n",
      "2\n",
      "[('c',), ('a',), ('t',), ('c', 'a'), ('c', 't'), ('a', 't')]\n"
     ]
    }
   ],
   "source": [
    "import itertools\n",
    "\n",
    "def get_combinations(s, n):\n",
    "    answer = []\n",
    "    for i in range(1, n+1):\n",
    "        answer += list(itertools.combinations(s, i))\n",
    "    return answer\n",
    "    \n",
    "\n",
    "s = input()\n",
    "n = int(input())\n",
    "\n",
    "print(get_combinations(s, n))"
   ]
  },
  {
   "cell_type": "markdown",
   "metadata": {},
   "source": [
    "## Упражнение №4"
   ]
  },
  {
   "cell_type": "code",
   "execution_count": 89,
   "metadata": {},
   "outputs": [
    {
     "name": "stdout",
     "output_type": "stream",
     "text": [
      "cat\n",
      "2\n",
      "[('a', 'a'), ('a', 't'), ('c', 'a'), ('c', 'c'), ('c', 't'), ('t', 't')]\n"
     ]
    }
   ],
   "source": [
    "from itertools import combinations_with_replacement as cwr\n",
    "\n",
    "def get_combinations_with_r(s, n):\n",
    "    answer = []\n",
    "    #for i in range(1, n+1):\n",
    "    answer += list(cwr(s, i))\n",
    "    return answer\n",
    "    \n",
    "\n",
    "s = input()\n",
    "n = int(input())\n",
    "\n",
    "print(sorted(get_combinations_with_r(s, n)))\n",
    "    "
   ]
  },
  {
   "cell_type": "markdown",
   "metadata": {},
   "source": [
    "## Упражнение 5"
   ]
  },
  {
   "cell_type": "code",
   "execution_count": 105,
   "metadata": {},
   "outputs": [
    {
     "name": "stdout",
     "output_type": "stream",
     "text": [
      "1223311\n",
      "[('1', 1), ('2', 2), ('3', 2), ('1', 2)]\n"
     ]
    }
   ],
   "source": [
    "from itertools import groupby \n",
    "\n",
    "def compress_string(s):\n",
    "    answer = []\n",
    "    prom = [list(g) for k, g in groupby(s)]\n",
    "    for i in prom:\n",
    "        answer.append((i[0], len(i)))\n",
    "    return answer\n",
    "\n",
    "s = input()\n",
    "\n",
    "print(compress_string(s))"
   ]
  },
  {
   "cell_type": "markdown",
   "metadata": {},
   "source": [
    "## Упражнение 6"
   ]
  },
  {
   "cell_type": "code",
   "execution_count": 110,
   "metadata": {},
   "outputs": [
    {
     "name": "stdout",
     "output_type": "stream",
     "text": [
      "4 is a 5\n"
     ]
    },
    {
     "ename": "ValueError",
     "evalue": "too many values to unpack (expected 2)",
     "output_type": "error",
     "traceback": [
      "\u001b[1;31m---------------------------------------------------------------------------\u001b[0m",
      "\u001b[1;31mValueError\u001b[0m                                Traceback (most recent call last)",
      "\u001b[1;32m<ipython-input-110-a6aab630a5f5>\u001b[0m in \u001b[0;36m<module>\u001b[1;34m\u001b[0m\n\u001b[0;32m     12\u001b[0m ]\n\u001b[0;32m     13\u001b[0m \u001b[1;33m\u001b[0m\u001b[0m\n\u001b[1;32m---> 14\u001b[1;33m \u001b[0mmaximize\u001b[0m\u001b[1;33m(\u001b[0m\u001b[0mlists\u001b[0m\u001b[1;33m,\u001b[0m \u001b[0mm\u001b[0m \u001b[1;33m=\u001b[0m \u001b[1;36m1000\u001b[0m\u001b[1;33m)\u001b[0m\u001b[1;33m\u001b[0m\u001b[1;33m\u001b[0m\u001b[0m\n\u001b[0m",
      "\u001b[1;32m<ipython-input-110-a6aab630a5f5>\u001b[0m in \u001b[0;36mmaximize\u001b[1;34m(lists, m)\u001b[0m\n\u001b[0;32m      3\u001b[0m \u001b[1;32mdef\u001b[0m \u001b[0mmaximize\u001b[0m\u001b[1;33m(\u001b[0m\u001b[0mlists\u001b[0m\u001b[1;33m,\u001b[0m \u001b[0mm\u001b[0m\u001b[1;33m)\u001b[0m\u001b[1;33m:\u001b[0m\u001b[1;33m\u001b[0m\u001b[1;33m\u001b[0m\u001b[0m\n\u001b[0;32m      4\u001b[0m     \u001b[1;32mfor\u001b[0m \u001b[0mkey\u001b[0m\u001b[1;33m,\u001b[0m \u001b[0mgroup\u001b[0m \u001b[1;32min\u001b[0m \u001b[0mgroupby\u001b[0m\u001b[1;33m(\u001b[0m\u001b[0mlists\u001b[0m\u001b[1;33m,\u001b[0m \u001b[1;32mlambda\u001b[0m \u001b[0mk\u001b[0m\u001b[1;33m:\u001b[0m \u001b[0mk\u001b[0m\u001b[1;33m[\u001b[0m\u001b[1;36m0\u001b[0m\u001b[1;33m]\u001b[0m\u001b[1;33m)\u001b[0m\u001b[1;33m:\u001b[0m\u001b[1;33m\u001b[0m\u001b[1;33m\u001b[0m\u001b[0m\n\u001b[1;32m----> 5\u001b[1;33m         \u001b[1;32mfor\u001b[0m \u001b[0mk\u001b[0m\u001b[1;33m,\u001b[0m \u001b[0mname\u001b[0m \u001b[1;32min\u001b[0m \u001b[0mgroup\u001b[0m\u001b[1;33m:\u001b[0m\u001b[1;33m\u001b[0m\u001b[1;33m\u001b[0m\u001b[0m\n\u001b[0m\u001b[0;32m      6\u001b[0m             \u001b[0mprint\u001b[0m\u001b[1;33m(\u001b[0m\u001b[1;34m'{name} is a {k}'\u001b[0m\u001b[1;33m.\u001b[0m\u001b[0mformat\u001b[0m\u001b[1;33m(\u001b[0m\u001b[0mname\u001b[0m \u001b[1;33m=\u001b[0m \u001b[0mname\u001b[0m\u001b[1;33m,\u001b[0m \u001b[0mk\u001b[0m \u001b[1;33m=\u001b[0m \u001b[0mk\u001b[0m\u001b[1;33m)\u001b[0m\u001b[1;33m)\u001b[0m\u001b[1;33m\u001b[0m\u001b[1;33m\u001b[0m\u001b[0m\n\u001b[0;32m      7\u001b[0m \u001b[1;33m\u001b[0m\u001b[0m\n",
      "\u001b[1;31mValueError\u001b[0m: too many values to unpack (expected 2)"
     ]
    }
   ],
   "source": [
    "from itertools import groupby\n",
    "\n",
    "def maximize(lists, m):\n",
    "    for key, group in groupby(lists, lambda k: k[0]):\n",
    "        for k, name in group:\n",
    "            print('{name} is a {k}'.format(name = name, k = k))\n",
    "\n",
    "lists = [\n",
    "    [5, 4],\n",
    "    [7, 8, 9],\n",
    "    [5, 7, 8, 9, 10]\n",
    "]\n",
    "                \n",
    "maximize(lists, m = 1000)                  "
   ]
  },
  {
   "cell_type": "code",
   "execution_count": null,
   "metadata": {},
   "outputs": [],
   "source": []
  }
 ],
 "metadata": {
  "kernelspec": {
   "display_name": "Python 3",
   "language": "python",
   "name": "python3"
  },
  "language_info": {
   "codemirror_mode": {
    "name": "ipython",
    "version": 3
   },
   "file_extension": ".py",
   "mimetype": "text/x-python",
   "name": "python",
   "nbconvert_exporter": "python",
   "pygments_lexer": "ipython3",
   "version": "3.7.5"
  }
 },
 "nbformat": 4,
 "nbformat_minor": 4
}
